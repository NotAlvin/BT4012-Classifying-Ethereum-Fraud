{
 "cells": [
  {
   "cell_type": "code",
   "execution_count": 1,
   "id": "939bfb8a",
   "metadata": {
    "colab": {
     "base_uri": "https://localhost:8080/",
     "height": 373
    },
    "executionInfo": {
     "elapsed": 10,
     "status": "error",
     "timestamp": 1667209390500,
     "user": {
      "displayName": "Alvin Leung",
      "userId": "04515226660203115454"
     },
     "user_tz": -480
    },
    "id": "939bfb8a",
    "outputId": "f0ab42c0-f591-4af8-9b07-47e4d7c90fed"
   },
   "outputs": [],
   "source": [
    "import numpy as np\n",
    "import pandas as pd\n",
    "from sklearn.preprocessing import MinMaxScaler, LabelEncoder, PolynomialFeatures\n",
    "from sklearn import svm\n",
    "from sklearn.pipeline import Pipeline\n",
    "from sklearn.metrics import confusion_matrix, roc_auc_score, recall_score, accuracy_score, classification_report, r2_score as r2\n",
    "from sklearn.model_selection import KFold, RepeatedKFold, GridSearchCV, train_test_split, cross_val_score\n",
    "from sklearn.linear_model import LinearRegression, LogisticRegression, Ridge\n",
    "from pytorch_tabnet.tab_model import TabNetClassifier\n",
    "from xgboost import XGBClassifier\n",
    "import torch\n",
    "import keras\n",
    "from scikeras.wrappers import KerasClassifier\n",
    "import tensorflow as tf\n",
    "from keras.models import Sequential\n",
    "from keras import layers\n",
    "from sklearn.pipeline import make_pipeline\n",
    "from scikeras.wrappers import KerasClassifier\n",
    "from sklearn.ensemble import StackingClassifier, StackingRegressor\n",
    "from sklearn.neural_network import MLPClassifier\n",
    "from tqdm import tqdm\n",
    "import time\n",
    "\n",
    "%matplotlib inline\n",
    "import matplotlib\n",
    "import matplotlib.pyplot as plt\n",
    "import seaborn as sns\n",
    "matplotlib.rcParams['figure.figsize'] = (11.0, 8.0)"
   ]
  },
  {
   "cell_type": "code",
   "execution_count": 4,
   "id": "a95cd3b8",
   "metadata": {
    "colab": {
     "base_uri": "https://localhost:8080/",
     "height": 380
    },
    "executionInfo": {
     "elapsed": 374,
     "status": "error",
     "timestamp": 1667209406117,
     "user": {
      "displayName": "Alvin Leung",
      "userId": "04515226660203115454"
     },
     "user_tz": -480
    },
    "id": "a95cd3b8",
    "outputId": "04c2636b-fbb1-4eb2-8f61-b596147f865e"
   },
   "outputs": [
    {
     "data": {
      "text/plain": [
       "array([[False, False, False, ..., False, False, False],\n",
       "       [False, False, False, ..., False, False, False],\n",
       "       [False, False, False, ..., False, False, False],\n",
       "       ...,\n",
       "       [False, False, False, ..., False, False, False],\n",
       "       [False, False, False, ..., False, False, False],\n",
       "       [False, False, False, ..., False, False, False]])"
      ]
     },
     "execution_count": 4,
     "metadata": {},
     "output_type": "execute_result"
    }
   ],
   "source": [
    "#Importing Data\n",
    "df = pd.read_csv('data/address_data.csv')\n",
    "X = df.drop(columns=['Address', 'FLAG'])\n",
    "y = df['FLAG']\n",
    "X_train_full, X_test, y_train_full, y_test = train_test_split(X, y, test_size=0.3, random_state=42, stratify=y)\n",
    "\n",
    "\n",
    "columns = ['Avg min between sent tnx', 'Avg min between received tnx',\n",
    "       'Time Diff between first and last (Mins)',\n",
    "       'Unique Received From Addresses', 'min value received',\n",
    "       'max value received ', 'avg val received', 'min val sent',\n",
    "       'avg val sent', 'total transactions (including tnx to create contract',\n",
    "       'total ether received', 'total ether balance']\n",
    "    \n",
    "scaler = MinMaxScaler()\n",
    "\n",
    "# Log for Skewed Data\n",
    "for c in columns:\n",
    "    X_train_full[c] = X_train_full[c].apply(lambda x: np.log(x) if x > 0 else 0)\n",
    "    X_test[c] = X_test[c].apply(lambda x: np.log(x) if x > 0 else 0)\n",
    "\n",
    "# Scaling\n",
    "X_train_full = scaler.fit_transform(X_train_full)\n",
    "X_test = scaler.transform(X_test)\n",
    "\n",
    "np.isnan(X_train_full)\n"
   ]
  },
  {
   "cell_type": "code",
   "execution_count": 5,
   "id": "8d93a698",
   "metadata": {
    "id": "8d93a698"
   },
   "outputs": [
    {
     "ename": "NameError",
     "evalue": "name 'train_list' is not defined",
     "output_type": "error",
     "traceback": [
      "\u001b[1;31m---------------------------------------------------------------------------\u001b[0m",
      "\u001b[1;31mNameError\u001b[0m                                 Traceback (most recent call last)",
      "\u001b[1;32m~\\AppData\\Local\\Temp/ipykernel_11532/2213090433.py\u001b[0m in \u001b[0;36m<module>\u001b[1;34m\u001b[0m\n\u001b[0;32m     17\u001b[0m \u001b[1;32mfor\u001b[0m \u001b[0mi\u001b[0m \u001b[1;32min\u001b[0m \u001b[0mrange\u001b[0m\u001b[1;33m(\u001b[0m\u001b[1;36m10\u001b[0m\u001b[1;33m)\u001b[0m\u001b[1;33m:\u001b[0m\u001b[1;33m\u001b[0m\u001b[1;33m\u001b[0m\u001b[0m\n\u001b[0;32m     18\u001b[0m     \u001b[1;31m# Log for Skewed Data\u001b[0m\u001b[1;33m\u001b[0m\u001b[1;33m\u001b[0m\u001b[0m\n\u001b[1;32m---> 19\u001b[1;33m     \u001b[0mtrain_df_new\u001b[0m \u001b[1;33m=\u001b[0m \u001b[0mtrain_list\u001b[0m\u001b[1;33m[\u001b[0m\u001b[0mi\u001b[0m\u001b[1;33m]\u001b[0m\u001b[1;33m.\u001b[0m\u001b[0mdrop\u001b[0m\u001b[1;33m(\u001b[0m\u001b[0mcolumns\u001b[0m\u001b[1;33m=\u001b[0m\u001b[1;33m[\u001b[0m\u001b[1;34m'Address'\u001b[0m\u001b[1;33m,\u001b[0m \u001b[1;34m'FLAG'\u001b[0m\u001b[1;33m]\u001b[0m\u001b[1;33m)\u001b[0m\u001b[1;33m\u001b[0m\u001b[1;33m\u001b[0m\u001b[0m\n\u001b[0m\u001b[0;32m     20\u001b[0m     \u001b[0mtest_df_new\u001b[0m \u001b[1;33m=\u001b[0m \u001b[0mtest_list\u001b[0m\u001b[1;33m[\u001b[0m\u001b[0mi\u001b[0m\u001b[1;33m]\u001b[0m\u001b[1;33m.\u001b[0m\u001b[0mdrop\u001b[0m\u001b[1;33m(\u001b[0m\u001b[0mcolumns\u001b[0m\u001b[1;33m=\u001b[0m\u001b[1;33m[\u001b[0m\u001b[1;34m'Address'\u001b[0m\u001b[1;33m,\u001b[0m \u001b[1;34m'FLAG'\u001b[0m\u001b[1;33m]\u001b[0m\u001b[1;33m)\u001b[0m\u001b[1;33m\u001b[0m\u001b[1;33m\u001b[0m\u001b[0m\n\u001b[0;32m     21\u001b[0m \u001b[1;33m\u001b[0m\u001b[0m\n",
      "\u001b[1;31mNameError\u001b[0m: name 'train_list' is not defined"
     ]
    }
   ],
   "source": [
    "# Feature Engineering\n",
    "\n",
    "columns = ['Avg min between sent tnx', 'Avg min between received tnx',\n",
    "       'Time Diff between first and last (Mins)',\n",
    "       'Unique Received From Addresses', 'min value received',\n",
    "       'max value received ', 'avg val received', 'min val sent',\n",
    "       'avg val sent', 'total transactions (including tnx to create contract',\n",
    "       'total ether received', 'total ether balance']\n",
    "    \n",
    "scaler = MinMaxScaler()\n",
    "\n",
    "scaled_train_x_list = []\n",
    "scaled_test_x_list = []\n",
    "train_y_list = []\n",
    "test_y_list = []\n",
    "\n",
    "for i in range(10):\n",
    "    # Log for Skewed Data\n",
    "    train_df_new = train_list[i].drop(columns=['Address', 'FLAG'])\n",
    "    test_df_new = test_list[i].drop(columns=['Address', 'FLAG'])\n",
    "\n",
    "    for c in columns:\n",
    "        train_df_new[c] = train_df_new[c].apply(lambda x: np.log(x) if x > 0 else 0)\n",
    "        test_df_new[c] = test_df_new[c].apply(lambda x: np.log(x) if x > 0 else 0)\n",
    "\n",
    "    # Scaling\n",
    "    train_df_new = scaler.fit_transform(train_df_new)\n",
    "    test_df_new = scaler.transform(test_df_new)\n",
    "\n",
    "    scaled_train_x_list.append(train_df_new)\n",
    "    scaled_test_x_list.append(test_df_new)\n",
    "    train_y_list.append(train_list[i][['FLAG']])\n",
    "    test_y_list.append(test_list[i][['FLAG']])\n",
    "\n",
    "#np.isnan(scaled_train_x_list[0])"
   ]
  },
  {
   "cell_type": "code",
   "execution_count": null,
   "id": "4f0e737f",
   "metadata": {
    "id": "4f0e737f",
    "outputId": "5c7f42f0-a854-47d3-d00c-26161fffdc8c"
   },
   "outputs": [
    {
     "data": {
      "text/plain": [
       "False"
      ]
     },
     "execution_count": 8,
     "metadata": {},
     "output_type": "execute_result"
    }
   ],
   "source": [
    "torch.cuda.is_available()"
   ]
  },
  {
   "cell_type": "markdown",
   "id": "71833ee4",
   "metadata": {
    "id": "71833ee4"
   },
   "source": [
    "tabnet Optimization: Source - https://arxiv.org/pdf/1908.07442.pdf\n",
    "Nd and Na are chosen from {8, 16, 24, 32, 64, 128}\n",
    "Nsteps is chosen from {3, 4, 5, 6, 7, 8, 9, 10}, \n",
    "γ is chosen from {1.0, 1.2, 1.5, 2.0}, \n",
    "λsparse is chosen from {0, 0.000001, 0.0001, 0.001, 0.01, 0.1}, \n",
    "B is chosen from {256, 512, 1024, 2048, 4096, 8192, 16384, 32768}, \n",
    "BV is chosen from {256, 512, 1024, 2048, 4096}, \n",
    "the learning rate is chosen from {0.005, 0.01.0.02, 0.025}, \n",
    "the decay rate is chosen from {0.4, 0.8, 0.9, 0.95},\n",
    "the decay iterations is chosen from {0.5k, 2k, 8k, 10k, 20k}, \n",
    "and mB is chosen from {0.6, 0.7, 0.8, 0.9, 0.95, 0.98}. \n",
    "\n",
    "If the model size is not\n",
    "under the desired cutoff, we decrease the value to satisfy\n",
    "the size constraint. For all the comparison models, we run a\n",
    "hyperparameter tuning with the same number of search steps."
   ]
  },
  {
   "cell_type": "code",
   "execution_count": null,
   "id": "3bb509ec",
   "metadata": {
    "id": "3bb509ec"
   },
   "outputs": [],
   "source": [
    "tabnet_params = {\n",
    "    \"verbose\": 0,\n",
    "    \"cat_emb_dim\": 1,\n",
    "    \"optimizer_fn\": torch.optim.Adam,\n",
    "    \"optimizer_params\": dict(lr=2e-2),\n",
    "    \"scheduler_params\": {\"step_size\":50, # how to use learning rate scheduler\n",
    "                        \"gamma\":0.9},\n",
    "    \"scheduler_fn\": torch.optim.lr_scheduler.StepLR,\n",
    "    \"mask_type\":'entmax',\n",
    "    }\n",
    "\n",
    "xgb_params = {\n",
    "    'max_depth':8,\n",
    "    'learning_rate':0.1,\n",
    "    'n_estimators':1000,\n",
    "    'verbosity':0,\n",
    "    'objective':'binary:logistic',\n",
    "    'booster':'gbtree',\n",
    "    'gamma':0,\n",
    "    'min_child_weight':1,\n",
    "    'max_delta_step':0,\n",
    "    'subsample':0.7,\n",
    "    'colsample_bytree':1,\n",
    "    'colsample_bylevel':1,\n",
    "    'colsample_bynode':1,\n",
    "    'reg_alpha':0,\n",
    "    'reg_lambda':1,\n",
    "    'scale_pos_weight':1,\n",
    "    'base_score':0.5,\n",
    "}\n",
    "\n",
    "# define dataset\n",
    "X_train, y_train = scaled_train_x_list[0], train_y_list[0].values.ravel()\n",
    "X_test, y_test = scaled_test_x_list[0], test_y_list[0].values.ravel()\n",
    "\n",
    "input_dim = X_train.shape[1]\n",
    "# number of hidden nodes\n",
    "H = 40\n",
    "# num of epochs\n",
    "num_epochs = 100\n",
    "# num_layers\n",
    "num_layers = 5\n",
    "# activation function\n",
    "activation_function = 'relu'\n",
    "\n",
    "def create_mlp_model():\n",
    "    model_n = Sequential()\n",
    "    model_n.add(layers.Dense(H, input_shape=(input_dim, ), activation= activation_function))\n",
    "    for _ in range(num_layers - 1):\n",
    "        model_n.add(layers.Dense(H, activation= activation_function))\n",
    "    model_n.add(layers.Dense(1, activation='sigmoid'))\n",
    "    model_n.compile(loss='mean_squared_error', optimizer='adam')\n",
    "    return model_n\n",
    "\n",
    "Kmodel = KerasClassifier(build_fn=create_mlp_model, verbose=0)\n",
    "pipe = Pipeline([\n",
    "    ('model', Kmodel),\n",
    "])"
   ]
  },
  {
   "cell_type": "code",
   "execution_count": null,
   "id": "9c034817",
   "metadata": {
    "id": "9c034817",
    "outputId": "68793b80-bd69-4c82-9aa0-26c4579c3df0"
   },
   "outputs": [
    {
     "data": {
      "text/plain": [
       "\"\\nresults, names = list(), list()\\nfor name, model in models.items():\\n    scores = evaluate_model(model, X, y)\\n    results.append(scores)\\n    names.append(name)\\n    print('>%s %.3f (%.3f)' % (name, np.mean(scores), np.std(scores)))\\n# plot model performance for comparison\\nplt.boxplot(results, labels=names, showmeans=True)\\nplt.show()\\n\""
      ]
     },
     "execution_count": 13,
     "metadata": {},
     "output_type": "execute_result"
    }
   ],
   "source": [
    "# get a list of models to evaluate\n",
    "def get_models():\n",
    "    models = dict()\n",
    "    tabnet = TabNetClassifier(\n",
    "                verbose = 0,\n",
    "                optimizer_fn=torch.optim.Adam,\n",
    "                optimizer_params=dict(lr=2e-2),\n",
    "                scheduler_params={\"step_size\":10, # how to use learning rate scheduler\n",
    "                                  \"gamma\":0.9},\n",
    "                scheduler_fn=torch.optim.lr_scheduler.StepLR,\n",
    "                mask_type='sparsemax' # This will be overwritten if using pretrain model\n",
    "            )\n",
    "    models['tabnet'] = tabnet\n",
    "    models['svm'] = svm.SVC()\n",
    "    models['xgboost'] = XGBClassifier(**xgb_params)\n",
    "    models['mlp'] = pipe\n",
    "    return models\n",
    " \n",
    "# evaluate a given model using cross-validation\n",
    "def evaluate_model(model, X, y):\n",
    "    cv = RepeatedKFold(n_splits=10, n_repeats=3, random_state=1)\n",
    "    scores = cross_val_score(model, X, y, scoring='neg_mean_absolute_error', cv=cv, n_jobs=-1)#, error_score='raise')\n",
    "    return scores\n",
    " \n",
    "# define dataset\n",
    "X, y = scaled_train_x_list[0], train_y_list[0].values.ravel()\n",
    "# get the models to evaluate\n",
    "models = get_models()\n",
    "# evaluate the models and store results\n",
    "'''\n",
    "results, names = list(), list()\n",
    "for name, model in models.items():\n",
    "    scores = evaluate_model(model, X, y)\n",
    "    results.append(scores)\n",
    "    names.append(name)\n",
    "    print('>%s %.3f (%.3f)' % (name, np.mean(scores), np.std(scores)))\n",
    "# plot model performance for comparison\n",
    "plt.boxplot(results, labels=names, showmeans=True)\n",
    "plt.show()\n",
    "'''"
   ]
  },
  {
   "cell_type": "code",
   "execution_count": null,
   "id": "280d893b",
   "metadata": {
    "id": "280d893b"
   },
   "outputs": [],
   "source": [
    "def get_stacking():\n",
    "    # define the base models\n",
    "    level0 = list()\n",
    "    for key,value in get_models().items():\n",
    "        level0.append([key,value])\n",
    "    # define meta learner model\n",
    "    level1 = LogisticRegression()\n",
    "    # define the stacking ensemble\n",
    "    model = StackingClassifier(estimators=level0, final_estimator=level1, cv=10)\n",
    "    return model\n",
    "\n",
    "def get_models2():\n",
    "    models = dict()\n",
    "    for key,value in get_models().items():\n",
    "        models[key] = value\n",
    "    models['stacking'] = get_stacking()\n",
    "    return models\n",
    "\n",
    "models2 = get_models2()"
   ]
  },
  {
   "cell_type": "code",
   "execution_count": null,
   "id": "b017856f",
   "metadata": {
    "id": "b017856f",
    "outputId": "12322ef9-efc2-49ab-d6cd-b84e8d4e160f"
   },
   "outputs": [
    {
     "name": "stderr",
     "output_type": "stream",
     "text": [
      "C:\\Users\\alvin\\AppData\\Local\\Packages\\PythonSoftwareFoundation.Python.3.9_qbz5n2kfra8p0\\LocalCache\\local-packages\\Python39\\site-packages\\pytorch_tabnet\\abstract_model.py:651: UserWarning: No early stopping will be performed, last training weights will be used.\n",
      "  warnings.warn(wrn_msg)\n"
     ]
    },
    {
     "ename": "AttributeError",
     "evalue": "'NoneType' object has no attribute 'score'",
     "output_type": "error",
     "traceback": [
      "\u001b[1;31m---------------------------------------------------------------------------\u001b[0m",
      "\u001b[1;31mAttributeError\u001b[0m                            Traceback (most recent call last)",
      "\u001b[1;32m~\\AppData\\Local\\Temp/ipykernel_11692/142326777.py\u001b[0m in \u001b[0;36m<module>\u001b[1;34m\u001b[0m\n\u001b[0;32m      1\u001b[0m \u001b[1;32mfor\u001b[0m \u001b[0mname\u001b[0m\u001b[1;33m,\u001b[0m \u001b[0mmodel\u001b[0m \u001b[1;32min\u001b[0m \u001b[0mmodels2\u001b[0m\u001b[1;33m.\u001b[0m\u001b[0mitems\u001b[0m\u001b[1;33m(\u001b[0m\u001b[1;33m)\u001b[0m\u001b[1;33m:\u001b[0m\u001b[1;33m\u001b[0m\u001b[1;33m\u001b[0m\u001b[0m\n\u001b[0;32m      2\u001b[0m     \u001b[0mmodel\u001b[0m \u001b[1;33m=\u001b[0m \u001b[0mmodel\u001b[0m\u001b[1;33m.\u001b[0m\u001b[0mfit\u001b[0m\u001b[1;33m(\u001b[0m\u001b[0mX_train\u001b[0m\u001b[1;33m,\u001b[0m \u001b[0my_train\u001b[0m\u001b[1;33m)\u001b[0m\u001b[1;33m\u001b[0m\u001b[1;33m\u001b[0m\u001b[0m\n\u001b[1;32m----> 3\u001b[1;33m     \u001b[0mscores\u001b[0m \u001b[1;33m=\u001b[0m \u001b[0mmodel\u001b[0m\u001b[1;33m.\u001b[0m\u001b[0mscore\u001b[0m\u001b[1;33m(\u001b[0m\u001b[0mX_test\u001b[0m\u001b[1;33m,\u001b[0m \u001b[0my_test\u001b[0m\u001b[1;33m)\u001b[0m\u001b[1;33m\u001b[0m\u001b[1;33m\u001b[0m\u001b[0m\n\u001b[0m\u001b[0;32m      4\u001b[0m     \u001b[0mresults\u001b[0m\u001b[1;33m.\u001b[0m\u001b[0mappend\u001b[0m\u001b[1;33m(\u001b[0m\u001b[0mscores\u001b[0m\u001b[1;33m)\u001b[0m\u001b[1;33m\u001b[0m\u001b[1;33m\u001b[0m\u001b[0m\n\u001b[0;32m      5\u001b[0m     \u001b[0mnames\u001b[0m\u001b[1;33m.\u001b[0m\u001b[0mappend\u001b[0m\u001b[1;33m(\u001b[0m\u001b[0mname\u001b[0m\u001b[1;33m)\u001b[0m\u001b[1;33m\u001b[0m\u001b[1;33m\u001b[0m\u001b[0m\n",
      "\u001b[1;31mAttributeError\u001b[0m: 'NoneType' object has no attribute 'score'"
     ]
    }
   ],
   "source": [
    "#Not quite sure why this does not work - Alternative manual implementation below\n",
    "for name, model in models2.items():\n",
    "    model = model.fit(X_train, y_train)\n",
    "    scores = model.score(X_test, y_test)\n",
    "    results.append(scores)\n",
    "    names.append(name)\n",
    "    print('>%s %.3f (%.3f)' % (name, np.mean(scores), np.std(scores)))\n",
    "# plot model performance for comparison\n",
    "plt.boxplot(results, labels=names, showmeans=True)\n",
    "plt.show()"
   ]
  },
  {
   "cell_type": "code",
   "execution_count": null,
   "id": "6a40ed0b",
   "metadata": {
    "id": "6a40ed0b",
    "outputId": "a94538c2-83c8-4ab5-d8ce-9ef027db0b91"
   },
   "outputs": [
    {
     "name": "stderr",
     "output_type": "stream",
     "text": [
      "C:\\Users\\alvin\\AppData\\Local\\Packages\\PythonSoftwareFoundation.Python.3.9_qbz5n2kfra8p0\\LocalCache\\local-packages\\Python39\\site-packages\\pytorch_tabnet\\abstract_model.py:651: UserWarning: No early stopping will be performed, last training weights will be used.\n",
      "  warnings.warn(wrn_msg)\n"
     ]
    }
   ],
   "source": [
    "#Seperate cell since tabnet throwing the error\n",
    "clf = TabNetClassifier(\n",
    "    **tabnet_params)\n",
    "\n",
    "clf.fit(X_train=X_train, y_train=y_train)\n",
    "\n",
    "predictions = clf.predict(X_test)\n",
    "tabnet_acc = accuracy_score(y_test, predictions)"
   ]
  },
  {
   "cell_type": "code",
   "execution_count": null,
   "id": "0281e928",
   "metadata": {
    "id": "0281e928",
    "outputId": "240a9ed7-4606-4893-a21a-fb8be96dd80a"
   },
   "outputs": [
    {
     "name": "stderr",
     "output_type": "stream",
     "text": [
      "C:\\Users\\alvin\\AppData\\Local\\Packages\\PythonSoftwareFoundation.Python.3.9_qbz5n2kfra8p0\\LocalCache\\local-packages\\Python39\\site-packages\\scikeras\\wrappers.py:301: UserWarning: ``build_fn`` will be renamed to ``model`` in a future release, at which point use of ``build_fn`` will raise an Error instead.\n",
      "  warnings.warn(\n",
      "C:\\Users\\alvin\\AppData\\Local\\Packages\\PythonSoftwareFoundation.Python.3.9_qbz5n2kfra8p0\\LocalCache\\local-packages\\Python39\\site-packages\\pytorch_tabnet\\abstract_model.py:651: UserWarning: No early stopping will be performed, last training weights will be used.\n",
      "  warnings.warn(wrn_msg)\n",
      "C:\\Users\\alvin\\AppData\\Local\\Packages\\PythonSoftwareFoundation.Python.3.9_qbz5n2kfra8p0\\LocalCache\\local-packages\\Python39\\site-packages\\scikeras\\wrappers.py:301: UserWarning: ``build_fn`` will be renamed to ``model`` in a future release, at which point use of ``build_fn`` will raise an Error instead.\n",
      "  warnings.warn(\n",
      "C:\\Users\\alvin\\AppData\\Local\\Packages\\PythonSoftwareFoundation.Python.3.9_qbz5n2kfra8p0\\LocalCache\\local-packages\\Python39\\site-packages\\pytorch_tabnet\\abstract_model.py:651: UserWarning: No early stopping will be performed, last training weights will be used.\n",
      "  warnings.warn(wrn_msg)\n",
      "C:\\Users\\alvin\\AppData\\Local\\Packages\\PythonSoftwareFoundation.Python.3.9_qbz5n2kfra8p0\\LocalCache\\local-packages\\Python39\\site-packages\\pytorch_tabnet\\abstract_model.py:651: UserWarning: No early stopping will be performed, last training weights will be used.\n",
      "  warnings.warn(wrn_msg)\n",
      "C:\\Users\\alvin\\AppData\\Local\\Packages\\PythonSoftwareFoundation.Python.3.9_qbz5n2kfra8p0\\LocalCache\\local-packages\\Python39\\site-packages\\pytorch_tabnet\\abstract_model.py:651: UserWarning: No early stopping will be performed, last training weights will be used.\n",
      "  warnings.warn(wrn_msg)\n",
      "C:\\Users\\alvin\\AppData\\Local\\Packages\\PythonSoftwareFoundation.Python.3.9_qbz5n2kfra8p0\\LocalCache\\local-packages\\Python39\\site-packages\\pytorch_tabnet\\abstract_model.py:651: UserWarning: No early stopping will be performed, last training weights will be used.\n",
      "  warnings.warn(wrn_msg)\n",
      "C:\\Users\\alvin\\AppData\\Local\\Packages\\PythonSoftwareFoundation.Python.3.9_qbz5n2kfra8p0\\LocalCache\\local-packages\\Python39\\site-packages\\pytorch_tabnet\\abstract_model.py:651: UserWarning: No early stopping will be performed, last training weights will be used.\n",
      "  warnings.warn(wrn_msg)\n",
      "C:\\Users\\alvin\\AppData\\Local\\Packages\\PythonSoftwareFoundation.Python.3.9_qbz5n2kfra8p0\\LocalCache\\local-packages\\Python39\\site-packages\\pytorch_tabnet\\abstract_model.py:651: UserWarning: No early stopping will be performed, last training weights will be used.\n",
      "  warnings.warn(wrn_msg)\n",
      "C:\\Users\\alvin\\AppData\\Local\\Packages\\PythonSoftwareFoundation.Python.3.9_qbz5n2kfra8p0\\LocalCache\\local-packages\\Python39\\site-packages\\pytorch_tabnet\\abstract_model.py:651: UserWarning: No early stopping will be performed, last training weights will be used.\n",
      "  warnings.warn(wrn_msg)\n",
      "C:\\Users\\alvin\\AppData\\Local\\Packages\\PythonSoftwareFoundation.Python.3.9_qbz5n2kfra8p0\\LocalCache\\local-packages\\Python39\\site-packages\\pytorch_tabnet\\abstract_model.py:651: UserWarning: No early stopping will be performed, last training weights will be used.\n",
      "  warnings.warn(wrn_msg)\n",
      "C:\\Users\\alvin\\AppData\\Local\\Packages\\PythonSoftwareFoundation.Python.3.9_qbz5n2kfra8p0\\LocalCache\\local-packages\\Python39\\site-packages\\pytorch_tabnet\\abstract_model.py:651: UserWarning: No early stopping will be performed, last training weights will be used.\n",
      "  warnings.warn(wrn_msg)\n",
      "C:\\Users\\alvin\\AppData\\Local\\Packages\\PythonSoftwareFoundation.Python.3.9_qbz5n2kfra8p0\\LocalCache\\local-packages\\Python39\\site-packages\\pytorch_tabnet\\abstract_model.py:651: UserWarning: No early stopping will be performed, last training weights will be used.\n",
      "  warnings.warn(wrn_msg)\n",
      "C:\\Users\\alvin\\AppData\\Local\\Packages\\PythonSoftwareFoundation.Python.3.9_qbz5n2kfra8p0\\LocalCache\\local-packages\\Python39\\site-packages\\scikeras\\wrappers.py:301: UserWarning: ``build_fn`` will be renamed to ``model`` in a future release, at which point use of ``build_fn`` will raise an Error instead.\n",
      "  warnings.warn(\n",
      "C:\\Users\\alvin\\AppData\\Local\\Packages\\PythonSoftwareFoundation.Python.3.9_qbz5n2kfra8p0\\LocalCache\\local-packages\\Python39\\site-packages\\scikeras\\wrappers.py:301: UserWarning: ``build_fn`` will be renamed to ``model`` in a future release, at which point use of ``build_fn`` will raise an Error instead.\n",
      "  warnings.warn(\n",
      "C:\\Users\\alvin\\AppData\\Local\\Packages\\PythonSoftwareFoundation.Python.3.9_qbz5n2kfra8p0\\LocalCache\\local-packages\\Python39\\site-packages\\scikeras\\wrappers.py:301: UserWarning: ``build_fn`` will be renamed to ``model`` in a future release, at which point use of ``build_fn`` will raise an Error instead.\n",
      "  warnings.warn(\n",
      "C:\\Users\\alvin\\AppData\\Local\\Packages\\PythonSoftwareFoundation.Python.3.9_qbz5n2kfra8p0\\LocalCache\\local-packages\\Python39\\site-packages\\scikeras\\wrappers.py:301: UserWarning: ``build_fn`` will be renamed to ``model`` in a future release, at which point use of ``build_fn`` will raise an Error instead.\n",
      "  warnings.warn(\n",
      "C:\\Users\\alvin\\AppData\\Local\\Packages\\PythonSoftwareFoundation.Python.3.9_qbz5n2kfra8p0\\LocalCache\\local-packages\\Python39\\site-packages\\scikeras\\wrappers.py:301: UserWarning: ``build_fn`` will be renamed to ``model`` in a future release, at which point use of ``build_fn`` will raise an Error instead.\n",
      "  warnings.warn(\n",
      "C:\\Users\\alvin\\AppData\\Local\\Packages\\PythonSoftwareFoundation.Python.3.9_qbz5n2kfra8p0\\LocalCache\\local-packages\\Python39\\site-packages\\scikeras\\wrappers.py:301: UserWarning: ``build_fn`` will be renamed to ``model`` in a future release, at which point use of ``build_fn`` will raise an Error instead.\n",
      "  warnings.warn(\n",
      "C:\\Users\\alvin\\AppData\\Local\\Packages\\PythonSoftwareFoundation.Python.3.9_qbz5n2kfra8p0\\LocalCache\\local-packages\\Python39\\site-packages\\scikeras\\wrappers.py:301: UserWarning: ``build_fn`` will be renamed to ``model`` in a future release, at which point use of ``build_fn`` will raise an Error instead.\n",
      "  warnings.warn(\n",
      "C:\\Users\\alvin\\AppData\\Local\\Packages\\PythonSoftwareFoundation.Python.3.9_qbz5n2kfra8p0\\LocalCache\\local-packages\\Python39\\site-packages\\scikeras\\wrappers.py:301: UserWarning: ``build_fn`` will be renamed to ``model`` in a future release, at which point use of ``build_fn`` will raise an Error instead.\n",
      "  warnings.warn(\n",
      "C:\\Users\\alvin\\AppData\\Local\\Packages\\PythonSoftwareFoundation.Python.3.9_qbz5n2kfra8p0\\LocalCache\\local-packages\\Python39\\site-packages\\scikeras\\wrappers.py:301: UserWarning: ``build_fn`` will be renamed to ``model`` in a future release, at which point use of ``build_fn`` will raise an Error instead.\n",
      "  warnings.warn(\n",
      "C:\\Users\\alvin\\AppData\\Local\\Packages\\PythonSoftwareFoundation.Python.3.9_qbz5n2kfra8p0\\LocalCache\\local-packages\\Python39\\site-packages\\scikeras\\wrappers.py:301: UserWarning: ``build_fn`` will be renamed to ``model`` in a future release, at which point use of ``build_fn`` will raise an Error instead.\n",
      "  warnings.warn(\n"
     ]
    }
   ],
   "source": [
    "#Rest of the models\n",
    "clf2 = svm.SVC()\n",
    "clf2.fit(X_train, y_train)\n",
    "predictions = clf2.predict(X_test)\n",
    "\n",
    "svm_acc = accuracy_score(y_test, predictions)\n",
    "\n",
    "clf3 = XGBClassifier(**xgb_params)\n",
    "clf3.fit(X_train, y_train)\n",
    "predictions = clf3.predict(X_test)\n",
    "\n",
    "xgb_acc = accuracy_score(y_test, predictions)\n",
    "\n",
    "clf4 = pipe\n",
    "clf4.fit(X_train, y_train)\n",
    "predictions = clf4.predict(X_test)\n",
    "\n",
    "mlp_acc = accuracy_score(y_test, predictions)\n",
    "                         \n",
    "#debugging stacking error\n",
    "def get_stacking():\n",
    "    # define the base models\n",
    "    level0 = list()\n",
    "    for key,value in get_models().items():\n",
    "        try:\n",
    "            value._estimator_type = 'classifier'\n",
    "        except AttributeError:\n",
    "            pass\n",
    "        finally:\n",
    "            level0.append([key,value])\n",
    "    # define meta learner model\n",
    "    level1 = LogisticRegression()\n",
    "    # define the stacking ensemble\n",
    "    model = StackingClassifier(estimators=level0, final_estimator=level1, cv=10)\n",
    "    return model\n",
    "\n",
    "clf5 = get_stacking().fit(X_train, y_train)\n",
    "predictions = clf5.predict(X_test)\n",
    "\n",
    "stack_acc = accuracy_score(y_test, predictions)\n",
    "results = [tabnet_acc, svm_acc, xgb_acc, mlp_acc, stack_acc]\n",
    "names = []\n",
    "for name, model in models2.items():\n",
    "    names.append(name)"
   ]
  },
  {
   "cell_type": "code",
   "execution_count": null,
   "id": "e47ac6ae",
   "metadata": {
    "id": "e47ac6ae",
    "outputId": "972b40e6-36b9-45c8-8087-d96e65d3cfe3"
   },
   "outputs": [
    {
     "name": "stdout",
     "output_type": "stream",
     "text": [
      "[0.9447619047619048, 0.9161904761904762, 0.9580952380952381, 0.866031746031746, 0.96]\n",
      "['tabnet', 'svm', 'xgboost', 'mlp', 'stacking']\n"
     ]
    }
   ],
   "source": [
    "print(results)\n",
    "print(names)"
   ]
  },
  {
   "cell_type": "code",
   "execution_count": null,
   "id": "0bfc318c",
   "metadata": {
    "id": "0bfc318c",
    "outputId": "e4987fad-f92a-43cc-ed12-d9c92389c0f7"
   },
   "outputs": [
    {
     "data": {
      "image/png": "[encoded data removed]",
      "text/plain": [
       "<Figure size 720x360 with 1 Axes>"
      ]
     },
     "metadata": {
      "needs_background": "light"
     },
     "output_type": "display_data"
    }
   ],
   "source": [
    "fig = plt.figure(figsize = (10, 5))\n",
    " \n",
    "# creating the bar plot\n",
    "plt.bar(names, results, color ='maroon',\n",
    "        width = 0.4)\n",
    " \n",
    "plt.xlabel(\"Models\")\n",
    "plt.ylabel(\"Accuracy Results\")\n",
    "plt.title(\"Comparison of different model performances in ensemble\")\n",
    "plt.show()"
   ]
  },
  {
   "cell_type": "code",
   "execution_count": null,
   "id": "e6833588",
   "metadata": {
    "id": "e6833588",
    "outputId": "0ef653b9-084d-45bf-b90a-65d9b33c4756"
   },
   "outputs": [
    {
     "data": {
      "image/png": "[encoded data removed]",
      "text/plain": [
       "<Figure size 792x576 with 1 Axes>"
      ]
     },
     "metadata": {
      "needs_background": "light"
     },
     "output_type": "display_data"
    }
   ],
   "source": [
    "from matplotlib import rcParams\n",
    "rcParams.update({'figure.autolayout': True})\n",
    "\n",
    "fig, ax = plt.subplots()\n",
    "\n",
    "ax.set_ylabel(\"Accuracy Results\")\n",
    "ax.set_title(\"Models\")\n",
    "plt.ylim(0.8,1)\n",
    "def addlabels(x,y):\n",
    "    for i in range(len(x)):\n",
    "        plt.text(i,y[i],y[i])\n",
    "\n",
    "addlabels(names, results)\n",
    "plt.bar(names, results, color ='maroon',\n",
    "        width = 0.4)\n",
    "\n",
    "plt.show()"
   ]
  },
  {
   "cell_type": "code",
   "execution_count": null,
   "id": "715eb6f5",
   "metadata": {
    "id": "715eb6f5"
   },
   "outputs": [],
   "source": []
  }
 ],
 "metadata": {
  "colab": {
   "collapsed_sections": [],
   "provenance": []
  },
  "kernelspec": {
   "display_name": "Python 3.9.6 64-bit ('3.9.6')",
   "language": "python",
   "name": "python3"
  },
  "language_info": {
   "codemirror_mode": {
    "name": "ipython",
    "version": 3
   },
   "file_extension": ".py",
   "mimetype": "text/x-python",
   "name": "python",
   "nbconvert_exporter": "python",
   "pygments_lexer": "ipython3",
   "version": "3.9.6"
  },
  "vscode": {
   "interpreter": {
    "hash": "b6d02d92f30c3afccc504c0af6ec862fbbb99c882594c9ef1e8923a1750355a8"
   }
  }
 },
 "nbformat": 4,
 "nbformat_minor": 5
}
