{
 "cells": [
  {
   "cell_type": "markdown",
   "metadata": {
    "id": "Icl4wxnkDknx"
   },
   "source": [
    "<h2>Imports"
   ]
  },
  {
   "cell_type": "code",
   "execution_count": 1,
   "metadata": {
    "executionInfo": {
     "elapsed": 1159,
     "status": "ok",
     "timestamp": 1667480350947,
     "user": {
      "displayName": "Calvin The",
      "userId": "15660836313594304127"
     },
     "user_tz": -480
    },
    "id": "RAnpqYK8Dkn0"
   },
   "outputs": [],
   "source": [
    "from xgboost import XGBClassifier, plot_importance\n",
    "from sklearn.model_selection import GridSearchCV, train_test_split\n",
    "from sklearn.metrics import accuracy_score, roc_auc_score, confusion_matrix\n",
    "from math import sqrt\n",
    "import pandas as pd\n",
    "import numpy as np\n",
    "import seaborn as sb\n",
    "import matplotlib.pyplot as plt"
   ]
  },
  {
   "cell_type": "code",
   "execution_count": 2,
   "metadata": {
    "executionInfo": {
     "elapsed": 2,
     "status": "ok",
     "timestamp": 1667480358289,
     "user": {
      "displayName": "Calvin The",
      "userId": "15660836313594304127"
     },
     "user_tz": -480
    },
    "id": "bqj82k9dhWE3"
   },
   "outputs": [],
   "source": [
    "df = pd.read_csv('data/address_data.csv')"
   ]
  },
  {
   "cell_type": "code",
   "execution_count": 3,
   "metadata": {
    "executionInfo": {
     "elapsed": 1,
     "status": "ok",
     "timestamp": 1667480361686,
     "user": {
      "displayName": "Calvin The",
      "userId": "15660836313594304127"
     },
     "user_tz": -480
    },
    "id": "LmtH5n7QhXTP"
   },
   "outputs": [],
   "source": [
    "X = df.drop(columns=['Address', 'FLAG'])\n",
    "y = df['FLAG']\n",
    "X_train_full, X_test, y_train_full, y_test = train_test_split(X, y, test_size=0.3, random_state=42, stratify=y)"
   ]
  },
  {
   "cell_type": "code",
   "execution_count": 15,
   "metadata": {
    "executionInfo": {
     "elapsed": 752,
     "status": "ok",
     "timestamp": 1667481253339,
     "user": {
      "displayName": "Calvin The",
      "userId": "15660836313594304127"
     },
     "user_tz": -480
    },
    "id": "oOTb3NHJf_WO"
   },
   "outputs": [],
   "source": [
    "params = {\n",
    "    'max_depth': range (2, 10, 1),\n",
    "    'n_estimators': range(1000,1500,100),\n",
    "    'learning_rate': [0.1, 0.01, 0.05]\n",
    "}"
   ]
  },
  {
   "cell_type": "code",
   "execution_count": 16,
   "metadata": {
    "executionInfo": {
     "elapsed": 515,
     "status": "ok",
     "timestamp": 1667481256131,
     "user": {
      "displayName": "Calvin The",
      "userId": "15660836313594304127"
     },
     "user_tz": -480
    },
    "id": "C70Yc5XhgPUw"
   },
   "outputs": [],
   "source": [
    "clf = XGBClassifier(\n",
    "    objective= 'binary:logistic',\n",
    "    seed=42\n",
    ")"
   ]
  },
  {
   "cell_type": "code",
   "execution_count": 17,
   "metadata": {
    "executionInfo": {
     "elapsed": 2,
     "status": "ok",
     "timestamp": 1667481258718,
     "user": {
      "displayName": "Calvin The",
      "userId": "15660836313594304127"
     },
     "user_tz": -480
    },
    "id": "Ys-fY6tQh-zk"
   },
   "outputs": [],
   "source": [
    "tuned_clf = GridSearchCV(estimator=clf,\n",
    "                         param_grid=params,\n",
    "                         scoring='f1',\n",
    "                         cv=5,\n",
    "                         verbose=2,\n",
    "                         )"
   ]
  },
  {
   "cell_type": "code",
   "execution_count": 18,
   "metadata": {
    "colab": {
     "base_uri": "https://localhost:8080/"
    },
    "executionInfo": {
     "elapsed": 6198331,
     "status": "ok",
     "timestamp": 1667487459888,
     "user": {
      "displayName": "Calvin The",
      "userId": "15660836313594304127"
     },
     "user_tz": -480
    },
    "id": "ixLwZc41iffE",
    "outputId": "b31b1a87-25d3-47e1-af72-67559fcef21d"
   },
   "outputs": [
    {
     "name": "stdout",
     "output_type": "stream",
     "text": [
      "Fitting 5 folds for each of 120 candidates, totalling 600 fits\n",
      "[CV] END ..learning_rate=0.1, max_depth=2, n_estimators=1000; total time=   3.3s\n",
      "[CV] END ..learning_rate=0.1, max_depth=2, n_estimators=1000; total time=   3.3s\n",
      "[CV] END ..learning_rate=0.1, max_depth=2, n_estimators=1000; total time=   3.3s\n",
      "[CV] END ..learning_rate=0.1, max_depth=2, n_estimators=1000; total time=   3.3s\n",
      "[CV] END ..learning_rate=0.1, max_depth=2, n_estimators=1000; total time=   3.2s\n",
      "[CV] END ..learning_rate=0.1, max_depth=2, n_estimators=1100; total time=   3.6s\n",
      "[CV] END ..learning_rate=0.1, max_depth=2, n_estimators=1100; total time=   3.6s\n",
      "[CV] END ..learning_rate=0.1, max_depth=2, n_estimators=1100; total time=   3.6s\n",
      "[CV] END ..learning_rate=0.1, max_depth=2, n_estimators=1100; total time=   3.7s\n",
      "[CV] END ..learning_rate=0.1, max_depth=2, n_estimators=1100; total time=   3.6s\n",
      "[CV] END ..learning_rate=0.1, max_depth=2, n_estimators=1200; total time=   4.6s\n",
      "[CV] END ..learning_rate=0.1, max_depth=2, n_estimators=1200; total time=   4.0s\n",
      "[CV] END ..learning_rate=0.1, max_depth=2, n_estimators=1200; total time=   4.0s\n",
      "[CV] END ..learning_rate=0.1, max_depth=2, n_estimators=1200; total time=   4.0s\n",
      "[CV] END ..learning_rate=0.1, max_depth=2, n_estimators=1200; total time=   4.0s\n",
      "[CV] END ..learning_rate=0.1, max_depth=2, n_estimators=1300; total time=   4.4s\n",
      "[CV] END ..learning_rate=0.1, max_depth=2, n_estimators=1300; total time=   4.3s\n",
      "[CV] END ..learning_rate=0.1, max_depth=2, n_estimators=1300; total time=   4.3s\n",
      "[CV] END ..learning_rate=0.1, max_depth=2, n_estimators=1300; total time=   5.5s\n",
      "[CV] END ..learning_rate=0.1, max_depth=2, n_estimators=1300; total time=   4.2s\n",
      "[CV] END ..learning_rate=0.1, max_depth=2, n_estimators=1400; total time=   4.6s\n",
      "[CV] END ..learning_rate=0.1, max_depth=2, n_estimators=1400; total time=   4.6s\n",
      "[CV] END ..learning_rate=0.1, max_depth=2, n_estimators=1400; total time=   4.6s\n",
      "[CV] END ..learning_rate=0.1, max_depth=2, n_estimators=1400; total time=   4.5s\n",
      "[CV] END ..learning_rate=0.1, max_depth=2, n_estimators=1400; total time=   4.6s\n",
      "[CV] END ..learning_rate=0.1, max_depth=3, n_estimators=1000; total time=   4.6s\n",
      "[CV] END ..learning_rate=0.1, max_depth=3, n_estimators=1000; total time=   4.6s\n",
      "[CV] END ..learning_rate=0.1, max_depth=3, n_estimators=1000; total time=   4.7s\n",
      "[CV] END ..learning_rate=0.1, max_depth=3, n_estimators=1000; total time=   4.7s\n",
      "[CV] END ..learning_rate=0.1, max_depth=3, n_estimators=1000; total time=   4.6s\n",
      "[CV] END ..learning_rate=0.1, max_depth=3, n_estimators=1100; total time=   7.1s\n",
      "[CV] END ..learning_rate=0.1, max_depth=3, n_estimators=1100; total time=   6.6s\n",
      "[CV] END ..learning_rate=0.1, max_depth=3, n_estimators=1100; total time=   5.1s\n",
      "[CV] END ..learning_rate=0.1, max_depth=3, n_estimators=1100; total time=   5.1s\n",
      "[CV] END ..learning_rate=0.1, max_depth=3, n_estimators=1100; total time=   5.1s\n",
      "[CV] END ..learning_rate=0.1, max_depth=3, n_estimators=1200; total time=   5.6s\n",
      "[CV] END ..learning_rate=0.1, max_depth=3, n_estimators=1200; total time=   5.7s\n",
      "[CV] END ..learning_rate=0.1, max_depth=3, n_estimators=1200; total time=   5.7s\n",
      "[CV] END ..learning_rate=0.1, max_depth=3, n_estimators=1200; total time=   5.6s\n",
      "[CV] END ..learning_rate=0.1, max_depth=3, n_estimators=1200; total time=   5.6s\n",
      "[CV] END ..learning_rate=0.1, max_depth=3, n_estimators=1300; total time=   6.1s\n",
      "[CV] END ..learning_rate=0.1, max_depth=3, n_estimators=1300; total time=   6.0s\n",
      "[CV] END ..learning_rate=0.1, max_depth=3, n_estimators=1300; total time=   6.1s\n",
      "[CV] END ..learning_rate=0.1, max_depth=3, n_estimators=1300; total time=   6.2s\n",
      "[CV] END ..learning_rate=0.1, max_depth=3, n_estimators=1300; total time=   6.1s\n",
      "[CV] END ..learning_rate=0.1, max_depth=3, n_estimators=1400; total time=   6.5s\n",
      "[CV] END ..learning_rate=0.1, max_depth=3, n_estimators=1400; total time=   6.5s\n",
      "[CV] END ..learning_rate=0.1, max_depth=3, n_estimators=1400; total time=   6.5s\n",
      "[CV] END ..learning_rate=0.1, max_depth=3, n_estimators=1400; total time=   6.5s\n",
      "[CV] END ..learning_rate=0.1, max_depth=3, n_estimators=1400; total time=   6.5s\n",
      "[CV] END ..learning_rate=0.1, max_depth=4, n_estimators=1000; total time=   6.2s\n",
      "[CV] END ..learning_rate=0.1, max_depth=4, n_estimators=1000; total time=   6.3s\n",
      "[CV] END ..learning_rate=0.1, max_depth=4, n_estimators=1000; total time=   6.3s\n",
      "[CV] END ..learning_rate=0.1, max_depth=4, n_estimators=1000; total time=   6.2s\n",
      "[CV] END ..learning_rate=0.1, max_depth=4, n_estimators=1000; total time=   6.3s\n",
      "[CV] END ..learning_rate=0.1, max_depth=4, n_estimators=1100; total time=   6.9s\n",
      "[CV] END ..learning_rate=0.1, max_depth=4, n_estimators=1100; total time=   6.8s\n",
      "[CV] END ..learning_rate=0.1, max_depth=4, n_estimators=1100; total time=   6.8s\n",
      "[CV] END ..learning_rate=0.1, max_depth=4, n_estimators=1100; total time=   6.7s\n",
      "[CV] END ..learning_rate=0.1, max_depth=4, n_estimators=1100; total time=   6.7s\n",
      "[CV] END ..learning_rate=0.1, max_depth=4, n_estimators=1200; total time=   7.4s\n",
      "[CV] END ..learning_rate=0.1, max_depth=4, n_estimators=1200; total time=   7.3s\n",
      "[CV] END ..learning_rate=0.1, max_depth=4, n_estimators=1200; total time=   7.4s\n",
      "[CV] END ..learning_rate=0.1, max_depth=4, n_estimators=1200; total time=   7.3s\n",
      "[CV] END ..learning_rate=0.1, max_depth=4, n_estimators=1200; total time=   7.3s\n",
      "[CV] END ..learning_rate=0.1, max_depth=4, n_estimators=1300; total time=   7.9s\n",
      "[CV] END ..learning_rate=0.1, max_depth=4, n_estimators=1300; total time=   8.0s\n",
      "[CV] END ..learning_rate=0.1, max_depth=4, n_estimators=1300; total time=   8.0s\n",
      "[CV] END ..learning_rate=0.1, max_depth=4, n_estimators=1300; total time=   8.0s\n",
      "[CV] END ..learning_rate=0.1, max_depth=4, n_estimators=1300; total time=   8.0s\n",
      "[CV] END ..learning_rate=0.1, max_depth=4, n_estimators=1400; total time=   8.6s\n",
      "[CV] END ..learning_rate=0.1, max_depth=4, n_estimators=1400; total time=   8.6s\n",
      "[CV] END ..learning_rate=0.1, max_depth=4, n_estimators=1400; total time=   8.5s\n",
      "[CV] END ..learning_rate=0.1, max_depth=4, n_estimators=1400; total time=   8.6s\n",
      "[CV] END ..learning_rate=0.1, max_depth=4, n_estimators=1400; total time=   8.6s\n",
      "[CV] END ..learning_rate=0.1, max_depth=5, n_estimators=1000; total time=   7.8s\n",
      "[CV] END ..learning_rate=0.1, max_depth=5, n_estimators=1000; total time=   7.7s\n",
      "[CV] END ..learning_rate=0.1, max_depth=5, n_estimators=1000; total time=   7.8s\n",
      "[CV] END ..learning_rate=0.1, max_depth=5, n_estimators=1000; total time=   7.9s\n",
      "[CV] END ..learning_rate=0.1, max_depth=5, n_estimators=1000; total time=   7.7s\n",
      "[CV] END ..learning_rate=0.1, max_depth=5, n_estimators=1100; total time=  11.7s\n",
      "[CV] END ..learning_rate=0.1, max_depth=5, n_estimators=1100; total time=   8.5s\n",
      "[CV] END ..learning_rate=0.1, max_depth=5, n_estimators=1100; total time=   8.5s\n",
      "[CV] END ..learning_rate=0.1, max_depth=5, n_estimators=1100; total time=   8.5s\n",
      "[CV] END ..learning_rate=0.1, max_depth=5, n_estimators=1100; total time=   8.6s\n",
      "[CV] END ..learning_rate=0.1, max_depth=5, n_estimators=1200; total time=   9.2s\n",
      "[CV] END ..learning_rate=0.1, max_depth=5, n_estimators=1200; total time=   9.2s\n",
      "[CV] END ..learning_rate=0.1, max_depth=5, n_estimators=1200; total time=   9.2s\n",
      "[CV] END ..learning_rate=0.1, max_depth=5, n_estimators=1200; total time=   9.1s\n",
      "[CV] END ..learning_rate=0.1, max_depth=5, n_estimators=1200; total time=   9.2s\n",
      "[CV] END ..learning_rate=0.1, max_depth=5, n_estimators=1300; total time=  10.0s\n",
      "[CV] END ..learning_rate=0.1, max_depth=5, n_estimators=1300; total time=   9.9s\n",
      "[CV] END ..learning_rate=0.1, max_depth=5, n_estimators=1300; total time=   9.9s\n",
      "[CV] END ..learning_rate=0.1, max_depth=5, n_estimators=1300; total time=   9.9s\n",
      "[CV] END ..learning_rate=0.1, max_depth=5, n_estimators=1300; total time=   9.9s\n",
      "[CV] END ..learning_rate=0.1, max_depth=5, n_estimators=1400; total time=  10.7s\n",
      "[CV] END ..learning_rate=0.1, max_depth=5, n_estimators=1400; total time=  10.7s\n",
      "[CV] END ..learning_rate=0.1, max_depth=5, n_estimators=1400; total time=  10.6s\n",
      "[CV] END ..learning_rate=0.1, max_depth=5, n_estimators=1400; total time=  10.5s\n",
      "[CV] END ..learning_rate=0.1, max_depth=5, n_estimators=1400; total time=  10.5s\n",
      "[CV] END ..learning_rate=0.1, max_depth=6, n_estimators=1000; total time=   9.1s\n",
      "[CV] END ..learning_rate=0.1, max_depth=6, n_estimators=1000; total time=   9.1s\n",
      "[CV] END ..learning_rate=0.1, max_depth=6, n_estimators=1000; total time=   9.3s\n",
      "[CV] END ..learning_rate=0.1, max_depth=6, n_estimators=1000; total time=   9.2s\n",
      "[CV] END ..learning_rate=0.1, max_depth=6, n_estimators=1000; total time=   9.1s\n",
      "[CV] END ..learning_rate=0.1, max_depth=6, n_estimators=1100; total time=  10.0s\n",
      "[CV] END ..learning_rate=0.1, max_depth=6, n_estimators=1100; total time=  10.0s\n",
      "[CV] END ..learning_rate=0.1, max_depth=6, n_estimators=1100; total time=   9.9s\n",
      "[CV] END ..learning_rate=0.1, max_depth=6, n_estimators=1100; total time=   9.9s\n",
      "[CV] END ..learning_rate=0.1, max_depth=6, n_estimators=1100; total time=  10.1s\n",
      "[CV] END ..learning_rate=0.1, max_depth=6, n_estimators=1200; total time=  10.9s\n",
      "[CV] END ..learning_rate=0.1, max_depth=6, n_estimators=1200; total time=  11.0s\n",
      "[CV] END ..learning_rate=0.1, max_depth=6, n_estimators=1200; total time=  10.9s\n",
      "[CV] END ..learning_rate=0.1, max_depth=6, n_estimators=1200; total time=  10.9s\n",
      "[CV] END ..learning_rate=0.1, max_depth=6, n_estimators=1200; total time=  12.7s\n",
      "[CV] END ..learning_rate=0.1, max_depth=6, n_estimators=1300; total time=  13.2s\n",
      "[CV] END ..learning_rate=0.1, max_depth=6, n_estimators=1300; total time=  11.7s\n",
      "[CV] END ..learning_rate=0.1, max_depth=6, n_estimators=1300; total time=  11.7s\n",
      "[CV] END ..learning_rate=0.1, max_depth=6, n_estimators=1300; total time=  11.8s\n",
      "[CV] END ..learning_rate=0.1, max_depth=6, n_estimators=1300; total time=  11.8s\n",
      "[CV] END ..learning_rate=0.1, max_depth=6, n_estimators=1400; total time=  12.6s\n",
      "[CV] END ..learning_rate=0.1, max_depth=6, n_estimators=1400; total time=  12.5s\n",
      "[CV] END ..learning_rate=0.1, max_depth=6, n_estimators=1400; total time=  12.6s\n",
      "[CV] END ..learning_rate=0.1, max_depth=6, n_estimators=1400; total time=  12.6s\n",
      "[CV] END ..learning_rate=0.1, max_depth=6, n_estimators=1400; total time=  12.7s\n",
      "[CV] END ..learning_rate=0.1, max_depth=7, n_estimators=1000; total time=  10.6s\n",
      "[CV] END ..learning_rate=0.1, max_depth=7, n_estimators=1000; total time=  10.4s\n",
      "[CV] END ..learning_rate=0.1, max_depth=7, n_estimators=1000; total time=  10.5s\n",
      "[CV] END ..learning_rate=0.1, max_depth=7, n_estimators=1000; total time=  10.6s\n",
      "[CV] END ..learning_rate=0.1, max_depth=7, n_estimators=1000; total time=  11.0s\n",
      "[CV] END ..learning_rate=0.1, max_depth=7, n_estimators=1100; total time=  11.5s\n",
      "[CV] END ..learning_rate=0.1, max_depth=7, n_estimators=1100; total time=  11.3s\n",
      "[CV] END ..learning_rate=0.1, max_depth=7, n_estimators=1100; total time=  11.4s\n",
      "[CV] END ..learning_rate=0.1, max_depth=7, n_estimators=1100; total time=  11.5s\n",
      "[CV] END ..learning_rate=0.1, max_depth=7, n_estimators=1100; total time=  11.4s\n",
      "[CV] END ..learning_rate=0.1, max_depth=7, n_estimators=1200; total time=  12.3s\n",
      "[CV] END ..learning_rate=0.1, max_depth=7, n_estimators=1200; total time=  12.3s\n",
      "[CV] END ..learning_rate=0.1, max_depth=7, n_estimators=1200; total time=  12.2s\n",
      "[CV] END ..learning_rate=0.1, max_depth=7, n_estimators=1200; total time=  12.5s\n",
      "[CV] END ..learning_rate=0.1, max_depth=7, n_estimators=1200; total time=  12.3s\n",
      "[CV] END ..learning_rate=0.1, max_depth=7, n_estimators=1300; total time=  13.2s\n",
      "[CV] END ..learning_rate=0.1, max_depth=7, n_estimators=1300; total time=  13.1s\n",
      "[CV] END ..learning_rate=0.1, max_depth=7, n_estimators=1300; total time=  13.2s\n",
      "[CV] END ..learning_rate=0.1, max_depth=7, n_estimators=1300; total time=  16.6s\n",
      "[CV] END ..learning_rate=0.1, max_depth=7, n_estimators=1300; total time=  13.3s\n",
      "[CV] END ..learning_rate=0.1, max_depth=7, n_estimators=1400; total time=  14.0s\n",
      "[CV] END ..learning_rate=0.1, max_depth=7, n_estimators=1400; total time=  14.0s\n",
      "[CV] END ..learning_rate=0.1, max_depth=7, n_estimators=1400; total time=  14.0s\n",
      "[CV] END ..learning_rate=0.1, max_depth=7, n_estimators=1400; total time=  14.3s\n",
      "[CV] END ..learning_rate=0.1, max_depth=7, n_estimators=1400; total time=  14.2s\n",
      "[CV] END ..learning_rate=0.1, max_depth=8, n_estimators=1000; total time=  11.5s\n",
      "[CV] END ..learning_rate=0.1, max_depth=8, n_estimators=1000; total time=  11.5s\n",
      "[CV] END ..learning_rate=0.1, max_depth=8, n_estimators=1000; total time=  11.5s\n",
      "[CV] END ..learning_rate=0.1, max_depth=8, n_estimators=1000; total time=  11.7s\n",
      "[CV] END ..learning_rate=0.1, max_depth=8, n_estimators=1000; total time=  11.7s\n",
      "[CV] END ..learning_rate=0.1, max_depth=8, n_estimators=1100; total time=  12.4s\n",
      "[CV] END ..learning_rate=0.1, max_depth=8, n_estimators=1100; total time=  12.5s\n",
      "[CV] END ..learning_rate=0.1, max_depth=8, n_estimators=1100; total time=  12.5s\n",
      "[CV] END ..learning_rate=0.1, max_depth=8, n_estimators=1100; total time=  12.7s\n",
      "[CV] END ..learning_rate=0.1, max_depth=8, n_estimators=1100; total time=  12.5s\n",
      "[CV] END ..learning_rate=0.1, max_depth=8, n_estimators=1200; total time=  13.1s\n",
      "[CV] END ..learning_rate=0.1, max_depth=8, n_estimators=1200; total time=  13.4s\n",
      "[CV] END ..learning_rate=0.1, max_depth=8, n_estimators=1200; total time=  13.4s\n",
      "[CV] END ..learning_rate=0.1, max_depth=8, n_estimators=1200; total time=  13.7s\n",
      "[CV] END ..learning_rate=0.1, max_depth=8, n_estimators=1200; total time=  13.5s\n",
      "[CV] END ..learning_rate=0.1, max_depth=8, n_estimators=1300; total time=  14.3s\n",
      "[CV] END ..learning_rate=0.1, max_depth=8, n_estimators=1300; total time=  14.3s\n",
      "[CV] END ..learning_rate=0.1, max_depth=8, n_estimators=1300; total time=  14.3s\n",
      "[CV] END ..learning_rate=0.1, max_depth=8, n_estimators=1300; total time=  15.6s\n",
      "[CV] END ..learning_rate=0.1, max_depth=8, n_estimators=1300; total time=  16.3s\n",
      "[CV] END ..learning_rate=0.1, max_depth=8, n_estimators=1400; total time=  15.1s\n",
      "[CV] END ..learning_rate=0.1, max_depth=8, n_estimators=1400; total time=  15.2s\n",
      "[CV] END ..learning_rate=0.1, max_depth=8, n_estimators=1400; total time=  15.2s\n",
      "[CV] END ..learning_rate=0.1, max_depth=8, n_estimators=1400; total time=  15.5s\n",
      "[CV] END ..learning_rate=0.1, max_depth=8, n_estimators=1400; total time=  15.5s\n",
      "[CV] END ..learning_rate=0.1, max_depth=9, n_estimators=1000; total time=  12.2s\n",
      "[CV] END ..learning_rate=0.1, max_depth=9, n_estimators=1000; total time=  12.4s\n",
      "[CV] END ..learning_rate=0.1, max_depth=9, n_estimators=1000; total time=  12.2s\n",
      "[CV] END ..learning_rate=0.1, max_depth=9, n_estimators=1000; total time=  12.4s\n",
      "[CV] END ..learning_rate=0.1, max_depth=9, n_estimators=1000; total time=  12.4s\n",
      "[CV] END ..learning_rate=0.1, max_depth=9, n_estimators=1100; total time=  13.1s\n",
      "[CV] END ..learning_rate=0.1, max_depth=9, n_estimators=1100; total time=  13.2s\n",
      "[CV] END ..learning_rate=0.1, max_depth=9, n_estimators=1100; total time=  13.1s\n",
      "[CV] END ..learning_rate=0.1, max_depth=9, n_estimators=1100; total time=  13.4s\n",
      "[CV] END ..learning_rate=0.1, max_depth=9, n_estimators=1100; total time=  13.2s\n",
      "[CV] END ..learning_rate=0.1, max_depth=9, n_estimators=1200; total time=  14.0s\n",
      "[CV] END ..learning_rate=0.1, max_depth=9, n_estimators=1200; total time=  14.0s\n",
      "[CV] END ..learning_rate=0.1, max_depth=9, n_estimators=1200; total time=  14.1s\n",
      "[CV] END ..learning_rate=0.1, max_depth=9, n_estimators=1200; total time=  14.3s\n",
      "[CV] END ..learning_rate=0.1, max_depth=9, n_estimators=1200; total time=  14.1s\n",
      "[CV] END ..learning_rate=0.1, max_depth=9, n_estimators=1300; total time=  14.8s\n",
      "[CV] END ..learning_rate=0.1, max_depth=9, n_estimators=1300; total time=  15.0s\n",
      "[CV] END ..learning_rate=0.1, max_depth=9, n_estimators=1300; total time=  15.0s\n",
      "[CV] END ..learning_rate=0.1, max_depth=9, n_estimators=1300; total time=  18.3s\n",
      "[CV] END ..learning_rate=0.1, max_depth=9, n_estimators=1300; total time=  15.0s\n",
      "[CV] END ..learning_rate=0.1, max_depth=9, n_estimators=1400; total time=  15.7s\n",
      "[CV] END ..learning_rate=0.1, max_depth=9, n_estimators=1400; total time=  16.0s\n",
      "[CV] END ..learning_rate=0.1, max_depth=9, n_estimators=1400; total time=  15.8s\n",
      "[CV] END ..learning_rate=0.1, max_depth=9, n_estimators=1400; total time=  16.1s\n",
      "[CV] END ..learning_rate=0.1, max_depth=9, n_estimators=1400; total time=  15.9s\n",
      "[CV] END .learning_rate=0.01, max_depth=2, n_estimators=1000; total time=   3.3s\n",
      "[CV] END .learning_rate=0.01, max_depth=2, n_estimators=1000; total time=   3.4s\n",
      "[CV] END .learning_rate=0.01, max_depth=2, n_estimators=1000; total time=   3.3s\n",
      "[CV] END .learning_rate=0.01, max_depth=2, n_estimators=1000; total time=   3.3s\n",
      "[CV] END .learning_rate=0.01, max_depth=2, n_estimators=1000; total time=   3.3s\n",
      "[CV] END .learning_rate=0.01, max_depth=2, n_estimators=1100; total time=   3.6s\n",
      "[CV] END .learning_rate=0.01, max_depth=2, n_estimators=1100; total time=   3.6s\n",
      "[CV] END .learning_rate=0.01, max_depth=2, n_estimators=1100; total time=   3.6s\n",
      "[CV] END .learning_rate=0.01, max_depth=2, n_estimators=1100; total time=   3.6s\n",
      "[CV] END .learning_rate=0.01, max_depth=2, n_estimators=1100; total time=   3.6s\n",
      "[CV] END .learning_rate=0.01, max_depth=2, n_estimators=1200; total time=   3.9s\n",
      "[CV] END .learning_rate=0.01, max_depth=2, n_estimators=1200; total time=   3.9s\n",
      "[CV] END .learning_rate=0.01, max_depth=2, n_estimators=1200; total time=   4.0s\n",
      "[CV] END .learning_rate=0.01, max_depth=2, n_estimators=1200; total time=   3.9s\n",
      "[CV] END .learning_rate=0.01, max_depth=2, n_estimators=1200; total time=   3.9s\n",
      "[CV] END .learning_rate=0.01, max_depth=2, n_estimators=1300; total time=   4.3s\n",
      "[CV] END .learning_rate=0.01, max_depth=2, n_estimators=1300; total time=   4.3s\n",
      "[CV] END .learning_rate=0.01, max_depth=2, n_estimators=1300; total time=   4.3s\n",
      "[CV] END .learning_rate=0.01, max_depth=2, n_estimators=1300; total time=   4.3s\n",
      "[CV] END .learning_rate=0.01, max_depth=2, n_estimators=1300; total time=   4.3s\n",
      "[CV] END .learning_rate=0.01, max_depth=2, n_estimators=1400; total time=   4.6s\n",
      "[CV] END .learning_rate=0.01, max_depth=2, n_estimators=1400; total time=   4.5s\n",
      "[CV] END .learning_rate=0.01, max_depth=2, n_estimators=1400; total time=   4.5s\n",
      "[CV] END .learning_rate=0.01, max_depth=2, n_estimators=1400; total time=   4.6s\n",
      "[CV] END .learning_rate=0.01, max_depth=2, n_estimators=1400; total time=   4.5s\n",
      "[CV] END .learning_rate=0.01, max_depth=3, n_estimators=1000; total time=   4.6s\n",
      "[CV] END .learning_rate=0.01, max_depth=3, n_estimators=1000; total time=   4.6s\n",
      "[CV] END .learning_rate=0.01, max_depth=3, n_estimators=1000; total time=   4.7s\n",
      "[CV] END .learning_rate=0.01, max_depth=3, n_estimators=1000; total time=   4.6s\n",
      "[CV] END .learning_rate=0.01, max_depth=3, n_estimators=1000; total time=   4.7s\n",
      "[CV] END .learning_rate=0.01, max_depth=3, n_estimators=1100; total time=   5.1s\n",
      "[CV] END .learning_rate=0.01, max_depth=3, n_estimators=1100; total time=   5.1s\n",
      "[CV] END .learning_rate=0.01, max_depth=3, n_estimators=1100; total time=   5.1s\n",
      "[CV] END .learning_rate=0.01, max_depth=3, n_estimators=1100; total time=   5.1s\n",
      "[CV] END .learning_rate=0.01, max_depth=3, n_estimators=1100; total time=   5.1s\n",
      "[CV] END .learning_rate=0.01, max_depth=3, n_estimators=1200; total time=   5.5s\n",
      "[CV] END .learning_rate=0.01, max_depth=3, n_estimators=1200; total time=   5.4s\n",
      "[CV] END .learning_rate=0.01, max_depth=3, n_estimators=1200; total time=   5.5s\n",
      "[CV] END .learning_rate=0.01, max_depth=3, n_estimators=1200; total time=   5.5s\n",
      "[CV] END .learning_rate=0.01, max_depth=3, n_estimators=1200; total time=   5.5s\n",
      "[CV] END .learning_rate=0.01, max_depth=3, n_estimators=1300; total time=   5.9s\n",
      "[CV] END .learning_rate=0.01, max_depth=3, n_estimators=1300; total time=   6.1s\n",
      "[CV] END .learning_rate=0.01, max_depth=3, n_estimators=1300; total time=   6.0s\n",
      "[CV] END .learning_rate=0.01, max_depth=3, n_estimators=1300; total time=   6.0s\n",
      "[CV] END .learning_rate=0.01, max_depth=3, n_estimators=1300; total time=   6.0s\n",
      "[CV] END .learning_rate=0.01, max_depth=3, n_estimators=1400; total time=   6.5s\n",
      "[CV] END .learning_rate=0.01, max_depth=3, n_estimators=1400; total time=   6.4s\n",
      "[CV] END .learning_rate=0.01, max_depth=3, n_estimators=1400; total time=   6.5s\n",
      "[CV] END .learning_rate=0.01, max_depth=3, n_estimators=1400; total time=   6.4s\n",
      "[CV] END .learning_rate=0.01, max_depth=3, n_estimators=1400; total time=   6.4s\n",
      "[CV] END .learning_rate=0.01, max_depth=4, n_estimators=1000; total time=   6.2s\n",
      "[CV] END .learning_rate=0.01, max_depth=4, n_estimators=1000; total time=   6.2s\n",
      "[CV] END .learning_rate=0.01, max_depth=4, n_estimators=1000; total time=   6.4s\n",
      "[CV] END .learning_rate=0.01, max_depth=4, n_estimators=1000; total time=   9.3s\n",
      "[CV] END .learning_rate=0.01, max_depth=4, n_estimators=1000; total time=   6.2s\n",
      "[CV] END .learning_rate=0.01, max_depth=4, n_estimators=1100; total time=   6.8s\n",
      "[CV] END .learning_rate=0.01, max_depth=4, n_estimators=1100; total time=   6.9s\n",
      "[CV] END .learning_rate=0.01, max_depth=4, n_estimators=1100; total time=   6.9s\n",
      "[CV] END .learning_rate=0.01, max_depth=4, n_estimators=1100; total time=   6.8s\n",
      "[CV] END .learning_rate=0.01, max_depth=4, n_estimators=1100; total time=   6.9s\n",
      "[CV] END .learning_rate=0.01, max_depth=4, n_estimators=1200; total time=   7.4s\n",
      "[CV] END .learning_rate=0.01, max_depth=4, n_estimators=1200; total time=   7.4s\n",
      "[CV] END .learning_rate=0.01, max_depth=4, n_estimators=1200; total time=   7.4s\n",
      "[CV] END .learning_rate=0.01, max_depth=4, n_estimators=1200; total time=   7.5s\n",
      "[CV] END .learning_rate=0.01, max_depth=4, n_estimators=1200; total time=   7.3s\n",
      "[CV] END .learning_rate=0.01, max_depth=4, n_estimators=1300; total time=   8.0s\n",
      "[CV] END .learning_rate=0.01, max_depth=4, n_estimators=1300; total time=   8.0s\n",
      "[CV] END .learning_rate=0.01, max_depth=4, n_estimators=1300; total time=   8.2s\n",
      "[CV] END .learning_rate=0.01, max_depth=4, n_estimators=1300; total time=   8.1s\n",
      "[CV] END .learning_rate=0.01, max_depth=4, n_estimators=1300; total time=   8.0s\n",
      "[CV] END .learning_rate=0.01, max_depth=4, n_estimators=1400; total time=   8.6s\n",
      "[CV] END .learning_rate=0.01, max_depth=4, n_estimators=1400; total time=   8.6s\n",
      "[CV] END .learning_rate=0.01, max_depth=4, n_estimators=1400; total time=   8.7s\n",
      "[CV] END .learning_rate=0.01, max_depth=4, n_estimators=1400; total time=   8.6s\n",
      "[CV] END .learning_rate=0.01, max_depth=4, n_estimators=1400; total time=   8.7s\n",
      "[CV] END .learning_rate=0.01, max_depth=5, n_estimators=1000; total time=   7.9s\n",
      "[CV] END .learning_rate=0.01, max_depth=5, n_estimators=1000; total time=   8.0s\n",
      "[CV] END .learning_rate=0.01, max_depth=5, n_estimators=1000; total time=   8.0s\n",
      "[CV] END .learning_rate=0.01, max_depth=5, n_estimators=1000; total time=   8.0s\n",
      "[CV] END .learning_rate=0.01, max_depth=5, n_estimators=1000; total time=   7.8s\n",
      "[CV] END .learning_rate=0.01, max_depth=5, n_estimators=1100; total time=   8.6s\n",
      "[CV] END .learning_rate=0.01, max_depth=5, n_estimators=1100; total time=   8.7s\n",
      "[CV] END .learning_rate=0.01, max_depth=5, n_estimators=1100; total time=   8.8s\n",
      "[CV] END .learning_rate=0.01, max_depth=5, n_estimators=1100; total time=   8.7s\n",
      "[CV] END .learning_rate=0.01, max_depth=5, n_estimators=1100; total time=   8.6s\n",
      "[CV] END .learning_rate=0.01, max_depth=5, n_estimators=1200; total time=   9.4s\n",
      "[CV] END .learning_rate=0.01, max_depth=5, n_estimators=1200; total time=   9.6s\n",
      "[CV] END .learning_rate=0.01, max_depth=5, n_estimators=1200; total time=   9.5s\n",
      "[CV] END .learning_rate=0.01, max_depth=5, n_estimators=1200; total time=   9.5s\n",
      "[CV] END .learning_rate=0.01, max_depth=5, n_estimators=1200; total time=   9.5s\n",
      "[CV] END .learning_rate=0.01, max_depth=5, n_estimators=1300; total time=  10.3s\n",
      "[CV] END .learning_rate=0.01, max_depth=5, n_estimators=1300; total time=  10.3s\n",
      "[CV] END .learning_rate=0.01, max_depth=5, n_estimators=1300; total time=  10.2s\n",
      "[CV] END .learning_rate=0.01, max_depth=5, n_estimators=1300; total time=  10.3s\n",
      "[CV] END .learning_rate=0.01, max_depth=5, n_estimators=1300; total time=  10.3s\n",
      "[CV] END .learning_rate=0.01, max_depth=5, n_estimators=1400; total time=  14.5s\n",
      "[CV] END .learning_rate=0.01, max_depth=5, n_estimators=1400; total time=  11.0s\n",
      "[CV] END .learning_rate=0.01, max_depth=5, n_estimators=1400; total time=  11.0s\n",
      "[CV] END .learning_rate=0.01, max_depth=5, n_estimators=1400; total time=  10.9s\n",
      "[CV] END .learning_rate=0.01, max_depth=5, n_estimators=1400; total time=  11.0s\n",
      "[CV] END .learning_rate=0.01, max_depth=6, n_estimators=1000; total time=   9.8s\n",
      "[CV] END .learning_rate=0.01, max_depth=6, n_estimators=1000; total time=   9.9s\n",
      "[CV] END .learning_rate=0.01, max_depth=6, n_estimators=1000; total time=   9.8s\n",
      "[CV] END .learning_rate=0.01, max_depth=6, n_estimators=1000; total time=   9.7s\n",
      "[CV] END .learning_rate=0.01, max_depth=6, n_estimators=1000; total time=   9.7s\n",
      "[CV] END .learning_rate=0.01, max_depth=6, n_estimators=1100; total time=  10.7s\n",
      "[CV] END .learning_rate=0.01, max_depth=6, n_estimators=1100; total time=  10.8s\n",
      "[CV] END .learning_rate=0.01, max_depth=6, n_estimators=1100; total time=  10.6s\n",
      "[CV] END .learning_rate=0.01, max_depth=6, n_estimators=1100; total time=  10.6s\n",
      "[CV] END .learning_rate=0.01, max_depth=6, n_estimators=1100; total time=  10.5s\n",
      "[CV] END .learning_rate=0.01, max_depth=6, n_estimators=1200; total time=  11.7s\n",
      "[CV] END .learning_rate=0.01, max_depth=6, n_estimators=1200; total time=  11.8s\n",
      "[CV] END .learning_rate=0.01, max_depth=6, n_estimators=1200; total time=  11.7s\n",
      "[CV] END .learning_rate=0.01, max_depth=6, n_estimators=1200; total time=  11.5s\n",
      "[CV] END .learning_rate=0.01, max_depth=6, n_estimators=1200; total time=  11.4s\n",
      "[CV] END .learning_rate=0.01, max_depth=6, n_estimators=1300; total time=  12.7s\n",
      "[CV] END .learning_rate=0.01, max_depth=6, n_estimators=1300; total time=  12.7s\n",
      "[CV] END .learning_rate=0.01, max_depth=6, n_estimators=1300; total time=  12.7s\n",
      "[CV] END .learning_rate=0.01, max_depth=6, n_estimators=1300; total time=  12.5s\n",
      "[CV] END .learning_rate=0.01, max_depth=6, n_estimators=1300; total time=  12.3s\n",
      "[CV] END .learning_rate=0.01, max_depth=6, n_estimators=1400; total time=  13.6s\n",
      "[CV] END .learning_rate=0.01, max_depth=6, n_estimators=1400; total time=  13.7s\n",
      "[CV] END .learning_rate=0.01, max_depth=6, n_estimators=1400; total time=  13.5s\n",
      "[CV] END .learning_rate=0.01, max_depth=6, n_estimators=1400; total time=  13.5s\n",
      "[CV] END .learning_rate=0.01, max_depth=6, n_estimators=1400; total time=  13.3s\n",
      "[CV] END .learning_rate=0.01, max_depth=7, n_estimators=1000; total time=  11.8s\n",
      "[CV] END .learning_rate=0.01, max_depth=7, n_estimators=1000; total time=  12.6s\n",
      "[CV] END .learning_rate=0.01, max_depth=7, n_estimators=1000; total time=  14.1s\n",
      "[CV] END .learning_rate=0.01, max_depth=7, n_estimators=1000; total time=  11.6s\n",
      "[CV] END .learning_rate=0.01, max_depth=7, n_estimators=1000; total time=  11.7s\n",
      "[CV] END .learning_rate=0.01, max_depth=7, n_estimators=1100; total time=  12.8s\n",
      "[CV] END .learning_rate=0.01, max_depth=7, n_estimators=1100; total time=  12.9s\n",
      "[CV] END .learning_rate=0.01, max_depth=7, n_estimators=1100; total time=  12.8s\n",
      "[CV] END .learning_rate=0.01, max_depth=7, n_estimators=1100; total time=  12.9s\n",
      "[CV] END .learning_rate=0.01, max_depth=7, n_estimators=1100; total time=  12.7s\n",
      "[CV] END .learning_rate=0.01, max_depth=7, n_estimators=1200; total time=  14.1s\n",
      "[CV] END .learning_rate=0.01, max_depth=7, n_estimators=1200; total time=  14.0s\n",
      "[CV] END .learning_rate=0.01, max_depth=7, n_estimators=1200; total time=  13.9s\n",
      "[CV] END .learning_rate=0.01, max_depth=7, n_estimators=1200; total time=  14.0s\n",
      "[CV] END .learning_rate=0.01, max_depth=7, n_estimators=1200; total time=  14.0s\n",
      "[CV] END .learning_rate=0.01, max_depth=7, n_estimators=1300; total time=  15.1s\n",
      "[CV] END .learning_rate=0.01, max_depth=7, n_estimators=1300; total time=  15.1s\n",
      "[CV] END .learning_rate=0.01, max_depth=7, n_estimators=1300; total time=  15.0s\n",
      "[CV] END .learning_rate=0.01, max_depth=7, n_estimators=1300; total time=  15.1s\n",
      "[CV] END .learning_rate=0.01, max_depth=7, n_estimators=1300; total time=  15.0s\n",
      "[CV] END .learning_rate=0.01, max_depth=7, n_estimators=1400; total time=  16.0s\n",
      "[CV] END .learning_rate=0.01, max_depth=7, n_estimators=1400; total time=  16.1s\n",
      "[CV] END .learning_rate=0.01, max_depth=7, n_estimators=1400; total time=  16.1s\n",
      "[CV] END .learning_rate=0.01, max_depth=7, n_estimators=1400; total time=  16.1s\n",
      "[CV] END .learning_rate=0.01, max_depth=7, n_estimators=1400; total time=  15.9s\n",
      "[CV] END .learning_rate=0.01, max_depth=8, n_estimators=1000; total time=  13.6s\n",
      "[CV] END .learning_rate=0.01, max_depth=8, n_estimators=1000; total time=  14.0s\n",
      "[CV] END .learning_rate=0.01, max_depth=8, n_estimators=1000; total time=  16.1s\n",
      "[CV] END .learning_rate=0.01, max_depth=8, n_estimators=1000; total time=  14.5s\n",
      "[CV] END .learning_rate=0.01, max_depth=8, n_estimators=1000; total time=  13.6s\n",
      "[CV] END .learning_rate=0.01, max_depth=8, n_estimators=1100; total time=  15.2s\n",
      "[CV] END .learning_rate=0.01, max_depth=8, n_estimators=1100; total time=  15.4s\n",
      "[CV] END .learning_rate=0.01, max_depth=8, n_estimators=1100; total time=  15.3s\n",
      "[CV] END .learning_rate=0.01, max_depth=8, n_estimators=1100; total time=  15.2s\n",
      "[CV] END .learning_rate=0.01, max_depth=8, n_estimators=1100; total time=  14.9s\n",
      "[CV] END .learning_rate=0.01, max_depth=8, n_estimators=1200; total time=  16.2s\n",
      "[CV] END .learning_rate=0.01, max_depth=8, n_estimators=1200; total time=  16.4s\n",
      "[CV] END .learning_rate=0.01, max_depth=8, n_estimators=1200; total time=  16.4s\n",
      "[CV] END .learning_rate=0.01, max_depth=8, n_estimators=1200; total time=  16.4s\n",
      "[CV] END .learning_rate=0.01, max_depth=8, n_estimators=1200; total time=  16.3s\n",
      "[CV] END .learning_rate=0.01, max_depth=8, n_estimators=1300; total time=  17.6s\n",
      "[CV] END .learning_rate=0.01, max_depth=8, n_estimators=1300; total time=  17.7s\n",
      "[CV] END .learning_rate=0.01, max_depth=8, n_estimators=1300; total time=  17.9s\n",
      "[CV] END .learning_rate=0.01, max_depth=8, n_estimators=1300; total time=  17.8s\n",
      "[CV] END .learning_rate=0.01, max_depth=8, n_estimators=1300; total time=  17.5s\n",
      "[CV] END .learning_rate=0.01, max_depth=8, n_estimators=1400; total time=  19.0s\n",
      "[CV] END .learning_rate=0.01, max_depth=8, n_estimators=1400; total time=  19.1s\n",
      "[CV] END .learning_rate=0.01, max_depth=8, n_estimators=1400; total time=  18.9s\n",
      "[CV] END .learning_rate=0.01, max_depth=8, n_estimators=1400; total time=  19.2s\n",
      "[CV] END .learning_rate=0.01, max_depth=8, n_estimators=1400; total time=  22.1s\n",
      "[CV] END .learning_rate=0.01, max_depth=9, n_estimators=1000; total time=  16.0s\n",
      "[CV] END .learning_rate=0.01, max_depth=9, n_estimators=1000; total time=  16.0s\n",
      "[CV] END .learning_rate=0.01, max_depth=9, n_estimators=1000; total time=  15.8s\n",
      "[CV] END .learning_rate=0.01, max_depth=9, n_estimators=1000; total time=  15.6s\n",
      "[CV] END .learning_rate=0.01, max_depth=9, n_estimators=1000; total time=  15.7s\n",
      "[CV] END .learning_rate=0.01, max_depth=9, n_estimators=1100; total time=  17.5s\n",
      "[CV] END .learning_rate=0.01, max_depth=9, n_estimators=1100; total time=  17.3s\n",
      "[CV] END .learning_rate=0.01, max_depth=9, n_estimators=1100; total time=  17.3s\n",
      "[CV] END .learning_rate=0.01, max_depth=9, n_estimators=1100; total time=  17.3s\n",
      "[CV] END .learning_rate=0.01, max_depth=9, n_estimators=1100; total time=  17.2s\n",
      "[CV] END .learning_rate=0.01, max_depth=9, n_estimators=1200; total time=  19.1s\n",
      "[CV] END .learning_rate=0.01, max_depth=9, n_estimators=1200; total time=  18.7s\n",
      "[CV] END .learning_rate=0.01, max_depth=9, n_estimators=1200; total time=  18.8s\n",
      "[CV] END .learning_rate=0.01, max_depth=9, n_estimators=1200; total time=  18.6s\n",
      "[CV] END .learning_rate=0.01, max_depth=9, n_estimators=1200; total time=  18.8s\n",
      "[CV] END .learning_rate=0.01, max_depth=9, n_estimators=1300; total time=  20.4s\n",
      "[CV] END .learning_rate=0.01, max_depth=9, n_estimators=1300; total time=  20.0s\n",
      "[CV] END .learning_rate=0.01, max_depth=9, n_estimators=1300; total time=  20.1s\n",
      "[CV] END .learning_rate=0.01, max_depth=9, n_estimators=1300; total time=  20.2s\n",
      "[CV] END .learning_rate=0.01, max_depth=9, n_estimators=1300; total time=  23.2s\n",
      "[CV] END .learning_rate=0.01, max_depth=9, n_estimators=1400; total time=  21.8s\n",
      "[CV] END .learning_rate=0.01, max_depth=9, n_estimators=1400; total time=  21.5s\n",
      "[CV] END .learning_rate=0.01, max_depth=9, n_estimators=1400; total time=  21.9s\n",
      "[CV] END .learning_rate=0.01, max_depth=9, n_estimators=1400; total time=  21.6s\n",
      "[CV] END .learning_rate=0.01, max_depth=9, n_estimators=1400; total time=  21.6s\n",
      "[CV] END .learning_rate=0.05, max_depth=2, n_estimators=1000; total time=   3.2s\n",
      "[CV] END .learning_rate=0.05, max_depth=2, n_estimators=1000; total time=   3.2s\n",
      "[CV] END .learning_rate=0.05, max_depth=2, n_estimators=1000; total time=   3.2s\n",
      "[CV] END .learning_rate=0.05, max_depth=2, n_estimators=1000; total time=   3.3s\n",
      "[CV] END .learning_rate=0.05, max_depth=2, n_estimators=1000; total time=   3.3s\n",
      "[CV] END .learning_rate=0.05, max_depth=2, n_estimators=1100; total time=   3.6s\n",
      "[CV] END .learning_rate=0.05, max_depth=2, n_estimators=1100; total time=   3.6s\n",
      "[CV] END .learning_rate=0.05, max_depth=2, n_estimators=1100; total time=   3.6s\n",
      "[CV] END .learning_rate=0.05, max_depth=2, n_estimators=1100; total time=   3.6s\n",
      "[CV] END .learning_rate=0.05, max_depth=2, n_estimators=1100; total time=   3.6s\n",
      "[CV] END .learning_rate=0.05, max_depth=2, n_estimators=1200; total time=   3.9s\n",
      "[CV] END .learning_rate=0.05, max_depth=2, n_estimators=1200; total time=   3.9s\n",
      "[CV] END .learning_rate=0.05, max_depth=2, n_estimators=1200; total time=   3.8s\n",
      "[CV] END .learning_rate=0.05, max_depth=2, n_estimators=1200; total time=   3.9s\n",
      "[CV] END .learning_rate=0.05, max_depth=2, n_estimators=1200; total time=   3.8s\n",
      "[CV] END .learning_rate=0.05, max_depth=2, n_estimators=1300; total time=   4.2s\n",
      "[CV] END .learning_rate=0.05, max_depth=2, n_estimators=1300; total time=   4.2s\n",
      "[CV] END .learning_rate=0.05, max_depth=2, n_estimators=1300; total time=   4.2s\n",
      "[CV] END .learning_rate=0.05, max_depth=2, n_estimators=1300; total time=   4.2s\n",
      "[CV] END .learning_rate=0.05, max_depth=2, n_estimators=1300; total time=   4.2s\n",
      "[CV] END .learning_rate=0.05, max_depth=2, n_estimators=1400; total time=   4.5s\n",
      "[CV] END .learning_rate=0.05, max_depth=2, n_estimators=1400; total time=   4.5s\n",
      "[CV] END .learning_rate=0.05, max_depth=2, n_estimators=1400; total time=   4.6s\n",
      "[CV] END .learning_rate=0.05, max_depth=2, n_estimators=1400; total time=   4.6s\n",
      "[CV] END .learning_rate=0.05, max_depth=2, n_estimators=1400; total time=   4.6s\n",
      "[CV] END .learning_rate=0.05, max_depth=3, n_estimators=1000; total time=   4.6s\n",
      "[CV] END .learning_rate=0.05, max_depth=3, n_estimators=1000; total time=   4.6s\n",
      "[CV] END .learning_rate=0.05, max_depth=3, n_estimators=1000; total time=   4.6s\n",
      "[CV] END .learning_rate=0.05, max_depth=3, n_estimators=1000; total time=   4.7s\n",
      "[CV] END .learning_rate=0.05, max_depth=3, n_estimators=1000; total time=   4.6s\n",
      "[CV] END .learning_rate=0.05, max_depth=3, n_estimators=1100; total time=   5.1s\n",
      "[CV] END .learning_rate=0.05, max_depth=3, n_estimators=1100; total time=   5.0s\n",
      "[CV] END .learning_rate=0.05, max_depth=3, n_estimators=1100; total time=   5.0s\n",
      "[CV] END .learning_rate=0.05, max_depth=3, n_estimators=1100; total time=   5.0s\n",
      "[CV] END .learning_rate=0.05, max_depth=3, n_estimators=1100; total time=   5.0s\n",
      "[CV] END .learning_rate=0.05, max_depth=3, n_estimators=1200; total time=   5.5s\n",
      "[CV] END .learning_rate=0.05, max_depth=3, n_estimators=1200; total time=   5.5s\n",
      "[CV] END .learning_rate=0.05, max_depth=3, n_estimators=1200; total time=   5.5s\n",
      "[CV] END .learning_rate=0.05, max_depth=3, n_estimators=1200; total time=   5.5s\n",
      "[CV] END .learning_rate=0.05, max_depth=3, n_estimators=1200; total time=   5.4s\n",
      "[CV] END .learning_rate=0.05, max_depth=3, n_estimators=1300; total time=   5.9s\n",
      "[CV] END .learning_rate=0.05, max_depth=3, n_estimators=1300; total time=   5.9s\n",
      "[CV] END .learning_rate=0.05, max_depth=3, n_estimators=1300; total time=   6.0s\n",
      "[CV] END .learning_rate=0.05, max_depth=3, n_estimators=1300; total time=   6.0s\n",
      "[CV] END .learning_rate=0.05, max_depth=3, n_estimators=1300; total time=   5.8s\n",
      "[CV] END .learning_rate=0.05, max_depth=3, n_estimators=1400; total time=   6.5s\n",
      "[CV] END .learning_rate=0.05, max_depth=3, n_estimators=1400; total time=   6.5s\n",
      "[CV] END .learning_rate=0.05, max_depth=3, n_estimators=1400; total time=   6.5s\n",
      "[CV] END .learning_rate=0.05, max_depth=3, n_estimators=1400; total time=   6.4s\n",
      "[CV] END .learning_rate=0.05, max_depth=3, n_estimators=1400; total time=   6.4s\n",
      "[CV] END .learning_rate=0.05, max_depth=4, n_estimators=1000; total time=   6.1s\n",
      "[CV] END .learning_rate=0.05, max_depth=4, n_estimators=1000; total time=   6.2s\n",
      "[CV] END .learning_rate=0.05, max_depth=4, n_estimators=1000; total time=   6.2s\n",
      "[CV] END .learning_rate=0.05, max_depth=4, n_estimators=1000; total time=   9.2s\n",
      "[CV] END .learning_rate=0.05, max_depth=4, n_estimators=1000; total time=   6.3s\n",
      "[CV] END .learning_rate=0.05, max_depth=4, n_estimators=1100; total time=   6.9s\n",
      "[CV] END .learning_rate=0.05, max_depth=4, n_estimators=1100; total time=   6.7s\n",
      "[CV] END .learning_rate=0.05, max_depth=4, n_estimators=1100; total time=   6.7s\n",
      "[CV] END .learning_rate=0.05, max_depth=4, n_estimators=1100; total time=   6.7s\n",
      "[CV] END .learning_rate=0.05, max_depth=4, n_estimators=1100; total time=   6.6s\n",
      "[CV] END .learning_rate=0.05, max_depth=4, n_estimators=1200; total time=   7.3s\n",
      "[CV] END .learning_rate=0.05, max_depth=4, n_estimators=1200; total time=   7.2s\n",
      "[CV] END .learning_rate=0.05, max_depth=4, n_estimators=1200; total time=   7.2s\n",
      "[CV] END .learning_rate=0.05, max_depth=4, n_estimators=1200; total time=   7.4s\n",
      "[CV] END .learning_rate=0.05, max_depth=4, n_estimators=1200; total time=   7.3s\n",
      "[CV] END .learning_rate=0.05, max_depth=4, n_estimators=1300; total time=   7.9s\n",
      "[CV] END .learning_rate=0.05, max_depth=4, n_estimators=1300; total time=   8.0s\n",
      "[CV] END .learning_rate=0.05, max_depth=4, n_estimators=1300; total time=   7.9s\n",
      "[CV] END .learning_rate=0.05, max_depth=4, n_estimators=1300; total time=   8.0s\n",
      "[CV] END .learning_rate=0.05, max_depth=4, n_estimators=1300; total time=   7.8s\n",
      "[CV] END .learning_rate=0.05, max_depth=4, n_estimators=1400; total time=   8.5s\n",
      "[CV] END .learning_rate=0.05, max_depth=4, n_estimators=1400; total time=   8.6s\n",
      "[CV] END .learning_rate=0.05, max_depth=4, n_estimators=1400; total time=   8.6s\n",
      "[CV] END .learning_rate=0.05, max_depth=4, n_estimators=1400; total time=   8.5s\n",
      "[CV] END .learning_rate=0.05, max_depth=4, n_estimators=1400; total time=   8.5s\n",
      "[CV] END .learning_rate=0.05, max_depth=5, n_estimators=1000; total time=   7.8s\n",
      "[CV] END .learning_rate=0.05, max_depth=5, n_estimators=1000; total time=   7.8s\n",
      "[CV] END .learning_rate=0.05, max_depth=5, n_estimators=1000; total time=   7.6s\n",
      "[CV] END .learning_rate=0.05, max_depth=5, n_estimators=1000; total time=   7.7s\n",
      "[CV] END .learning_rate=0.05, max_depth=5, n_estimators=1000; total time=   7.7s\n",
      "[CV] END .learning_rate=0.05, max_depth=5, n_estimators=1100; total time=   8.5s\n",
      "[CV] END .learning_rate=0.05, max_depth=5, n_estimators=1100; total time=   8.5s\n",
      "[CV] END .learning_rate=0.05, max_depth=5, n_estimators=1100; total time=   8.3s\n",
      "[CV] END .learning_rate=0.05, max_depth=5, n_estimators=1100; total time=   8.4s\n",
      "[CV] END .learning_rate=0.05, max_depth=5, n_estimators=1100; total time=   8.4s\n",
      "[CV] END .learning_rate=0.05, max_depth=5, n_estimators=1200; total time=   9.3s\n",
      "[CV] END .learning_rate=0.05, max_depth=5, n_estimators=1200; total time=   9.4s\n",
      "[CV] END .learning_rate=0.05, max_depth=5, n_estimators=1200; total time=   9.1s\n",
      "[CV] END .learning_rate=0.05, max_depth=5, n_estimators=1200; total time=   9.2s\n",
      "[CV] END .learning_rate=0.05, max_depth=5, n_estimators=1200; total time=   9.1s\n",
      "[CV] END .learning_rate=0.05, max_depth=5, n_estimators=1300; total time=  10.0s\n",
      "[CV] END .learning_rate=0.05, max_depth=5, n_estimators=1300; total time=  10.0s\n",
      "[CV] END .learning_rate=0.05, max_depth=5, n_estimators=1300; total time=  10.0s\n",
      "[CV] END .learning_rate=0.05, max_depth=5, n_estimators=1300; total time=  10.0s\n",
      "[CV] END .learning_rate=0.05, max_depth=5, n_estimators=1300; total time=  10.0s\n",
      "[CV] END .learning_rate=0.05, max_depth=5, n_estimators=1400; total time=  10.7s\n",
      "[CV] END .learning_rate=0.05, max_depth=5, n_estimators=1400; total time=  10.7s\n",
      "[CV] END .learning_rate=0.05, max_depth=5, n_estimators=1400; total time=  11.2s\n",
      "[CV] END .learning_rate=0.05, max_depth=5, n_estimators=1400; total time=  13.3s\n",
      "[CV] END .learning_rate=0.05, max_depth=5, n_estimators=1400; total time=  10.7s\n",
      "[CV] END .learning_rate=0.05, max_depth=6, n_estimators=1000; total time=   9.5s\n",
      "[CV] END .learning_rate=0.05, max_depth=6, n_estimators=1000; total time=   9.4s\n",
      "[CV] END .learning_rate=0.05, max_depth=6, n_estimators=1000; total time=   9.3s\n",
      "[CV] END .learning_rate=0.05, max_depth=6, n_estimators=1000; total time=   9.4s\n",
      "[CV] END .learning_rate=0.05, max_depth=6, n_estimators=1000; total time=   9.4s\n",
      "[CV] END .learning_rate=0.05, max_depth=6, n_estimators=1100; total time=  10.4s\n",
      "[CV] END .learning_rate=0.05, max_depth=6, n_estimators=1100; total time=  10.2s\n",
      "[CV] END .learning_rate=0.05, max_depth=6, n_estimators=1100; total time=  10.1s\n",
      "[CV] END .learning_rate=0.05, max_depth=6, n_estimators=1100; total time=  10.2s\n",
      "[CV] END .learning_rate=0.05, max_depth=6, n_estimators=1100; total time=  10.3s\n",
      "[CV] END .learning_rate=0.05, max_depth=6, n_estimators=1200; total time=  11.3s\n",
      "[CV] END .learning_rate=0.05, max_depth=6, n_estimators=1200; total time=  11.1s\n",
      "[CV] END .learning_rate=0.05, max_depth=6, n_estimators=1200; total time=  11.0s\n",
      "[CV] END .learning_rate=0.05, max_depth=6, n_estimators=1200; total time=  11.1s\n",
      "[CV] END .learning_rate=0.05, max_depth=6, n_estimators=1200; total time=  11.1s\n",
      "[CV] END .learning_rate=0.05, max_depth=6, n_estimators=1300; total time=  12.2s\n",
      "[CV] END .learning_rate=0.05, max_depth=6, n_estimators=1300; total time=  12.3s\n",
      "[CV] END .learning_rate=0.05, max_depth=6, n_estimators=1300; total time=  12.0s\n",
      "[CV] END .learning_rate=0.05, max_depth=6, n_estimators=1300; total time=  12.0s\n",
      "[CV] END .learning_rate=0.05, max_depth=6, n_estimators=1300; total time=  12.0s\n",
      "[CV] END .learning_rate=0.05, max_depth=6, n_estimators=1400; total time=  13.1s\n",
      "[CV] END .learning_rate=0.05, max_depth=6, n_estimators=1400; total time=  13.1s\n",
      "[CV] END .learning_rate=0.05, max_depth=6, n_estimators=1400; total time=  12.8s\n",
      "[CV] END .learning_rate=0.05, max_depth=6, n_estimators=1400; total time=  13.0s\n",
      "[CV] END .learning_rate=0.05, max_depth=6, n_estimators=1400; total time=  13.0s\n",
      "[CV] END .learning_rate=0.05, max_depth=7, n_estimators=1000; total time=  11.1s\n",
      "[CV] END .learning_rate=0.05, max_depth=7, n_estimators=1000; total time=  11.0s\n",
      "[CV] END .learning_rate=0.05, max_depth=7, n_estimators=1000; total time=  11.0s\n",
      "[CV] END .learning_rate=0.05, max_depth=7, n_estimators=1000; total time=  11.0s\n",
      "[CV] END .learning_rate=0.05, max_depth=7, n_estimators=1000; total time=  11.0s\n",
      "[CV] END .learning_rate=0.05, max_depth=7, n_estimators=1100; total time=  12.2s\n",
      "[CV] END .learning_rate=0.05, max_depth=7, n_estimators=1100; total time=  15.5s\n",
      "[CV] END .learning_rate=0.05, max_depth=7, n_estimators=1100; total time=  12.1s\n",
      "[CV] END .learning_rate=0.05, max_depth=7, n_estimators=1100; total time=  12.0s\n",
      "[CV] END .learning_rate=0.05, max_depth=7, n_estimators=1100; total time=  12.1s\n",
      "[CV] END .learning_rate=0.05, max_depth=7, n_estimators=1200; total time=  13.1s\n",
      "[CV] END .learning_rate=0.05, max_depth=7, n_estimators=1200; total time=  13.2s\n",
      "[CV] END .learning_rate=0.05, max_depth=7, n_estimators=1200; total time=  13.1s\n",
      "[CV] END .learning_rate=0.05, max_depth=7, n_estimators=1200; total time=  13.0s\n",
      "[CV] END .learning_rate=0.05, max_depth=7, n_estimators=1200; total time=  13.2s\n",
      "[CV] END .learning_rate=0.05, max_depth=7, n_estimators=1300; total time=  14.2s\n",
      "[CV] END .learning_rate=0.05, max_depth=7, n_estimators=1300; total time=  14.0s\n",
      "[CV] END .learning_rate=0.05, max_depth=7, n_estimators=1300; total time=  14.1s\n",
      "[CV] END .learning_rate=0.05, max_depth=7, n_estimators=1300; total time=  14.1s\n",
      "[CV] END .learning_rate=0.05, max_depth=7, n_estimators=1300; total time=  14.2s\n",
      "[CV] END .learning_rate=0.05, max_depth=7, n_estimators=1400; total time=  15.2s\n",
      "[CV] END .learning_rate=0.05, max_depth=7, n_estimators=1400; total time=  15.0s\n",
      "[CV] END .learning_rate=0.05, max_depth=7, n_estimators=1400; total time=  15.3s\n",
      "[CV] END .learning_rate=0.05, max_depth=7, n_estimators=1400; total time=  15.1s\n",
      "[CV] END .learning_rate=0.05, max_depth=7, n_estimators=1400; total time=  15.2s\n",
      "[CV] END .learning_rate=0.05, max_depth=8, n_estimators=1000; total time=  12.4s\n",
      "[CV] END .learning_rate=0.05, max_depth=8, n_estimators=1000; total time=  12.5s\n",
      "[CV] END .learning_rate=0.05, max_depth=8, n_estimators=1000; total time=  12.5s\n",
      "[CV] END .learning_rate=0.05, max_depth=8, n_estimators=1000; total time=  12.4s\n",
      "[CV] END .learning_rate=0.05, max_depth=8, n_estimators=1000; total time=  12.7s\n",
      "[CV] END .learning_rate=0.05, max_depth=8, n_estimators=1100; total time=  13.5s\n",
      "[CV] END .learning_rate=0.05, max_depth=8, n_estimators=1100; total time=  13.7s\n",
      "[CV] END .learning_rate=0.05, max_depth=8, n_estimators=1100; total time=  13.5s\n",
      "[CV] END .learning_rate=0.05, max_depth=8, n_estimators=1100; total time=  13.6s\n",
      "[CV] END .learning_rate=0.05, max_depth=8, n_estimators=1100; total time=  16.8s\n",
      "[CV] END .learning_rate=0.05, max_depth=8, n_estimators=1200; total time=  14.8s\n",
      "[CV] END .learning_rate=0.05, max_depth=8, n_estimators=1200; total time=  14.7s\n",
      "[CV] END .learning_rate=0.05, max_depth=8, n_estimators=1200; total time=  14.7s\n",
      "[CV] END .learning_rate=0.05, max_depth=8, n_estimators=1200; total time=  14.7s\n",
      "[CV] END .learning_rate=0.05, max_depth=8, n_estimators=1200; total time=  14.9s\n",
      "[CV] END .learning_rate=0.05, max_depth=8, n_estimators=1300; total time=  15.8s\n",
      "[CV] END .learning_rate=0.05, max_depth=8, n_estimators=1300; total time=  15.9s\n",
      "[CV] END .learning_rate=0.05, max_depth=8, n_estimators=1300; total time=  15.7s\n",
      "[CV] END .learning_rate=0.05, max_depth=8, n_estimators=1300; total time=  15.8s\n",
      "[CV] END .learning_rate=0.05, max_depth=8, n_estimators=1300; total time=  15.8s\n",
      "[CV] END .learning_rate=0.05, max_depth=8, n_estimators=1400; total time=  16.9s\n",
      "[CV] END .learning_rate=0.05, max_depth=8, n_estimators=1400; total time=  16.8s\n",
      "[CV] END .learning_rate=0.05, max_depth=8, n_estimators=1400; total time=  16.8s\n",
      "[CV] END .learning_rate=0.05, max_depth=8, n_estimators=1400; total time=  16.8s\n",
      "[CV] END .learning_rate=0.05, max_depth=8, n_estimators=1400; total time=  16.9s\n",
      "[CV] END .learning_rate=0.05, max_depth=9, n_estimators=1000; total time=  13.7s\n",
      "[CV] END .learning_rate=0.05, max_depth=9, n_estimators=1000; total time=  13.7s\n",
      "[CV] END .learning_rate=0.05, max_depth=9, n_estimators=1000; total time=  13.6s\n",
      "[CV] END .learning_rate=0.05, max_depth=9, n_estimators=1000; total time=  13.8s\n",
      "[CV] END .learning_rate=0.05, max_depth=9, n_estimators=1000; total time=  13.8s\n",
      "[CV] END .learning_rate=0.05, max_depth=9, n_estimators=1100; total time=  14.9s\n",
      "[CV] END .learning_rate=0.05, max_depth=9, n_estimators=1100; total time=  14.9s\n",
      "[CV] END .learning_rate=0.05, max_depth=9, n_estimators=1100; total time=  14.9s\n",
      "[CV] END .learning_rate=0.05, max_depth=9, n_estimators=1100; total time=  17.9s\n",
      "[CV] END .learning_rate=0.05, max_depth=9, n_estimators=1100; total time=  15.0s\n",
      "[CV] END .learning_rate=0.05, max_depth=9, n_estimators=1200; total time=  16.1s\n",
      "[CV] END .learning_rate=0.05, max_depth=9, n_estimators=1200; total time=  16.3s\n",
      "[CV] END .learning_rate=0.05, max_depth=9, n_estimators=1200; total time=  16.0s\n",
      "[CV] END .learning_rate=0.05, max_depth=9, n_estimators=1200; total time=  16.2s\n",
      "[CV] END .learning_rate=0.05, max_depth=9, n_estimators=1200; total time=  16.1s\n",
      "[CV] END .learning_rate=0.05, max_depth=9, n_estimators=1300; total time=  17.1s\n",
      "[CV] END .learning_rate=0.05, max_depth=9, n_estimators=1300; total time=  17.3s\n",
      "[CV] END .learning_rate=0.05, max_depth=9, n_estimators=1300; total time=  17.0s\n",
      "[CV] END .learning_rate=0.05, max_depth=9, n_estimators=1300; total time=  17.3s\n",
      "[CV] END .learning_rate=0.05, max_depth=9, n_estimators=1300; total time=  17.2s\n",
      "[CV] END .learning_rate=0.05, max_depth=9, n_estimators=1400; total time=  18.3s\n",
      "[CV] END .learning_rate=0.05, max_depth=9, n_estimators=1400; total time=  18.2s\n",
      "[CV] END .learning_rate=0.05, max_depth=9, n_estimators=1400; total time=  18.2s\n",
      "[CV] END .learning_rate=0.05, max_depth=9, n_estimators=1400; total time=  18.5s\n",
      "[CV] END .learning_rate=0.05, max_depth=9, n_estimators=1400; total time=  18.3s\n"
     ]
    },
    {
     "data": {
      "text/plain": [
       "GridSearchCV(cv=5, estimator=XGBClassifier(seed=42),\n",
       "             param_grid={'learning_rate': [0.1, 0.01, 0.05],\n",
       "                         'max_depth': range(2, 10),\n",
       "                         'n_estimators': range(1000, 1500, 100)},\n",
       "             scoring='f1', verbose=2)"
      ]
     },
     "execution_count": 18,
     "metadata": {},
     "output_type": "execute_result"
    }
   ],
   "source": [
    "tuned_clf.fit(X_train_full,y_train_full)"
   ]
  },
  {
   "cell_type": "code",
   "execution_count": 21,
   "metadata": {
    "colab": {
     "base_uri": "https://localhost:8080/"
    },
    "executionInfo": {
     "elapsed": 397,
     "status": "ok",
     "timestamp": 1667487572357,
     "user": {
      "displayName": "Calvin The",
      "userId": "15660836313594304127"
     },
     "user_tz": -480
    },
    "id": "jZozGXFDnqrV",
    "outputId": "515dea69-0abb-44cb-fa94-27f9f1c5c715"
   },
   "outputs": [
    {
     "data": {
      "text/plain": [
       "XGBClassifier(learning_rate=0.05, max_depth=8, n_estimators=1000, seed=42)"
      ]
     },
     "execution_count": 21,
     "metadata": {},
     "output_type": "execute_result"
    }
   ],
   "source": [
    "tuned_clf.best_estimator_"
   ]
  },
  {
   "cell_type": "code",
   "execution_count": 22,
   "metadata": {
    "colab": {
     "base_uri": "https://localhost:8080/"
    },
    "executionInfo": {
     "elapsed": 2,
     "status": "ok",
     "timestamp": 1667487574316,
     "user": {
      "displayName": "Calvin The",
      "userId": "15660836313594304127"
     },
     "user_tz": -480
    },
    "id": "T-jpCBSLoAP1",
    "outputId": "53df80ad-96d4-464a-f849-479d028bc018"
   },
   "outputs": [
    {
     "data": {
      "text/plain": [
       "0.9266381742653895"
      ]
     },
     "execution_count": 22,
     "metadata": {},
     "output_type": "execute_result"
    }
   ],
   "source": [
    "tuned_clf.best_score_"
   ]
  },
  {
   "cell_type": "code",
   "execution_count": 23,
   "metadata": {
    "colab": {
     "base_uri": "https://localhost:8080/"
    },
    "executionInfo": {
     "elapsed": 1257,
     "status": "ok",
     "timestamp": 1667488157561,
     "user": {
      "displayName": "Calvin The",
      "userId": "15660836313594304127"
     },
     "user_tz": -480
    },
    "id": "DP7Im9gWCUGd",
    "outputId": "bba02467-9426-4e47-c1bf-c2078daaaa90"
   },
   "outputs": [
    {
     "name": "stdout",
     "output_type": "stream",
     "text": [
      "XGBoost model accuracy score: 0.9402 and roc_auc score: 0.9402\n"
     ]
    }
   ],
   "source": [
    "    y_pred = tuned_clf.predict(X_test)\n",
    "    xgb_accuracy_score = accuracy_score(y_test, y_pred)\n",
    "    xgb_auc_score = roc_auc_score(y_test, y_pred)\n",
    "    print('XGBoost model accuracy score: {0:0.4f} '\n",
    "      'and roc_auc score: {0:0.4f}'. format(xgb_accuracy_score,xgb_auc_score))"
   ]
  },
  {
   "cell_type": "markdown",
   "metadata": {
    "id": "Rf9L3BD6Dkn1"
   },
   "source": [
    "<h2>Loading of data"
   ]
  },
  {
   "cell_type": "markdown",
   "metadata": {
    "id": "6Cid36_XDkn4"
   },
   "source": [
    "<h2>Model Training"
   ]
  },
  {
   "cell_type": "code",
   "execution_count": null,
   "metadata": {
    "id": "JXdR1oyBDkn3",
    "pycharm": {
     "name": "#%%\n"
    }
   },
   "outputs": [],
   "source": [
    "x_train_list = []\n",
    "y_train_list = []\n",
    "x_test_list = []\n",
    "y_test_list = []\n",
    "\n",
    "for i in range(10):\n",
    "    y_train_new= train_list[i]['FLAG']\n",
    "    y_test_new = test_list[i]['FLAG']\n",
    "\n",
    "    x_train_new = train_list[i].drop(columns=['Address','FLAG'])\n",
    "    x_test_new = test_list[i].drop(columns=['Address','FLAG'])\n",
    "\n",
    "    x_train_list.append(x_train_new)\n",
    "    y_train_list.append(y_train_new)\n",
    "    x_test_list.append(x_test_new)\n",
    "    y_test_list.append(y_test_new)"
   ]
  },
  {
   "cell_type": "markdown",
   "metadata": {
    "id": "eEYMno_oDkn5"
   },
   "source": [
    "Used GridsearchCV for hyperparameter tuning and Manual cross validation"
   ]
  },
  {
   "cell_type": "code",
   "execution_count": null,
   "metadata": {
    "id": "LPTluzd7Dkn6",
    "outputId": "33068023-959a-40fd-e7fa-1b931c0abfc7",
    "pycharm": {
     "name": "#%%\n"
    }
   },
   "outputs": [
    {
     "name": "stdout",
     "output_type": "stream",
     "text": [
      "XGBoost model accuracy score: 0.9581 and roc_auc score: 0.9581\n",
      "XGBoost model accuracy score: 0.9581 and roc_auc score: 0.9581\n",
      "XGBoost model accuracy score: 0.9517 and roc_auc score: 0.9517\n",
      "XGBoost model accuracy score: 0.9555 and roc_auc score: 0.9555\n",
      "XGBoost model accuracy score: 0.9530 and roc_auc score: 0.9530\n",
      "XGBoost model accuracy score: 0.9536 and roc_auc score: 0.9536\n",
      "XGBoost model accuracy score: 0.9441 and roc_auc score: 0.9441\n",
      "XGBoost model accuracy score: 0.9460 and roc_auc score: 0.9460\n",
      "XGBoost model accuracy score: 0.9562 and roc_auc score: 0.9562\n",
      "XGBoost model accuracy score: 0.9581 and roc_auc score: 0.9581\n"
     ]
    }
   ],
   "source": [
    "accuracy_and_auc_score_list = []\n",
    "for i in range(10):\n",
    "    params = {\n",
    "    'objective': ['binary:logistic'],\n",
    "    'max_depth': [8],\n",
    "    'learning_rate': [0.05],\n",
    "    'n_estimators': [1000],\n",
    "    }\n",
    "\n",
    "    xgb_model = XGBClassifier()\n",
    "    tuned_xgb = GridSearchCV(xgb_model,params,n_jobs=5,scoring='roc_auc',refit=True)\n",
    "    tuned_xgb.fit(x_train_list[i],y_train_list[i])\n",
    "    y_pred = tuned_xgb.predict(x_test_list[i])\n",
    "    xgb_accuracy_score = accuracy_score(y_test_list[i], y_pred)\n",
    "    xgb_auc_score = roc_auc_score(y_test_list[i], y_pred)\n",
    "    item = [xgb_accuracy_score,xgb_auc_score]\n",
    "    accuracy_and_auc_score_list.append(item)\n",
    "    print('XGBoost model accuracy score: {0:0.4f} '\n",
    "      'and roc_auc score: {0:0.4f}'. format(xgb_accuracy_score,xgb_auc_score))"
   ]
  },
  {
   "cell_type": "markdown",
   "metadata": {
    "id": "SoOunDooDkn7"
   },
   "source": [
    "<h2>Model Performance per K-Fold"
   ]
  },
  {
   "cell_type": "code",
   "execution_count": null,
   "metadata": {
    "id": "VKitN86nDkn7",
    "outputId": "3e716f41-565b-4b36-879a-51ee4c4bec16",
    "pycharm": {
     "name": "#%%\n"
    }
   },
   "outputs": [
    {
     "data": {
      "text/html": [
       "<div>\n",
       "<style scoped>\n",
       "    .dataframe tbody tr th:only-of-type {\n",
       "        vertical-align: middle;\n",
       "    }\n",
       "\n",
       "    .dataframe tbody tr th {\n",
       "        vertical-align: top;\n",
       "    }\n",
       "\n",
       "    .dataframe thead th {\n",
       "        text-align: right;\n",
       "    }\n",
       "</style>\n",
       "<table border=\"1\" class=\"dataframe\">\n",
       "  <thead>\n",
       "    <tr style=\"text-align: right;\">\n",
       "      <th></th>\n",
       "      <th>Accuracy score</th>\n",
       "      <th>Roc_auc score</th>\n",
       "    </tr>\n",
       "  </thead>\n",
       "  <tbody>\n",
       "    <tr>\n",
       "      <th>0</th>\n",
       "      <td>0.958095</td>\n",
       "      <td>0.958265</td>\n",
       "    </tr>\n",
       "    <tr>\n",
       "      <th>1</th>\n",
       "      <td>0.958069</td>\n",
       "      <td>0.958276</td>\n",
       "    </tr>\n",
       "    <tr>\n",
       "      <th>2</th>\n",
       "      <td>0.951715</td>\n",
       "      <td>0.951443</td>\n",
       "    </tr>\n",
       "    <tr>\n",
       "      <th>3</th>\n",
       "      <td>0.955527</td>\n",
       "      <td>0.955631</td>\n",
       "    </tr>\n",
       "    <tr>\n",
       "      <th>4</th>\n",
       "      <td>0.952986</td>\n",
       "      <td>0.952986</td>\n",
       "    </tr>\n",
       "    <tr>\n",
       "      <th>5</th>\n",
       "      <td>0.953621</td>\n",
       "      <td>0.953605</td>\n",
       "    </tr>\n",
       "    <tr>\n",
       "      <th>6</th>\n",
       "      <td>0.944091</td>\n",
       "      <td>0.944018</td>\n",
       "    </tr>\n",
       "    <tr>\n",
       "      <th>7</th>\n",
       "      <td>0.945997</td>\n",
       "      <td>0.945840</td>\n",
       "    </tr>\n",
       "    <tr>\n",
       "      <th>8</th>\n",
       "      <td>0.956163</td>\n",
       "      <td>0.956081</td>\n",
       "    </tr>\n",
       "    <tr>\n",
       "      <th>9</th>\n",
       "      <td>0.958069</td>\n",
       "      <td>0.958235</td>\n",
       "    </tr>\n",
       "  </tbody>\n",
       "</table>\n",
       "</div>"
      ],
      "text/plain": [
       "   Accuracy score  Roc_auc score\n",
       "0        0.958095       0.958265\n",
       "1        0.958069       0.958276\n",
       "2        0.951715       0.951443\n",
       "3        0.955527       0.955631\n",
       "4        0.952986       0.952986\n",
       "5        0.953621       0.953605\n",
       "6        0.944091       0.944018\n",
       "7        0.945997       0.945840\n",
       "8        0.956163       0.956081\n",
       "9        0.958069       0.958235"
      ]
     },
     "execution_count": 86,
     "metadata": {},
     "output_type": "execute_result"
    }
   ],
   "source": [
    "model_performance = pd.DataFrame(accuracy_and_auc_score_list)\n",
    "model_performance.columns = ['Accuracy score', 'Roc_auc score']\n",
    "model_performance"
   ]
  },
  {
   "cell_type": "markdown",
   "metadata": {
    "id": "medvBByeDkn7"
   },
   "source": [
    "<h2>Overall Average Performance"
   ]
  },
  {
   "cell_type": "code",
   "execution_count": null,
   "metadata": {
    "id": "4Tre1TXWDkn8",
    "outputId": "abfdf122-6bd1-4284-915d-2c67a0394475",
    "pycharm": {
     "name": "#%%\n"
    }
   },
   "outputs": [
    {
     "name": "stdout",
     "output_type": "stream",
     "text": [
      "Mean Accuracy Score: 0.9534334119924971\n",
      "Mean Roc_auc Score: 0.9534381921631996\n"
     ]
    }
   ],
   "source": [
    "print('Mean Accuracy Score: {}'.format(model_performance['Accuracy score'].mean()))\n",
    "print('Mean Roc_auc Score: {}'.format(model_performance['Roc_auc score'].mean()))"
   ]
  },
  {
   "cell_type": "markdown",
   "metadata": {
    "id": "ZVk7gIchDkn8"
   },
   "source": [
    "<h2>Model Confusion Matrix and Statistics"
   ]
  },
  {
   "cell_type": "code",
   "execution_count": null,
   "metadata": {
    "id": "2lgrUzQRDkn8",
    "outputId": "2230b348-243e-4ee3-b93d-79ea93d52c9f",
    "pycharm": {
     "name": "#%%\n"
    }
   },
   "outputs": [
    {
     "name": "stdout",
     "output_type": "stream",
     "text": [
      "Model Confusion Matrix Statistics:\n",
      "\n",
      " recall: 0.9517\n",
      "\n",
      " false_neg_rate: 0.0483\n",
      "\n",
      " false_pos_rate: 0.0352\n",
      "\n",
      " true_neg_rate: 0.9648\n",
      "\n",
      " positive_liklihood_ratio: 27.0346\n",
      "\n",
      " neg_liklihood_rate: 0.0501\n",
      "\n",
      " precision: 0.9660\n",
      "\n",
      " false_omission_rate: 0.0501\n",
      "\n",
      " false_discovery_rate: 0.0340\n",
      "\n",
      " neg_pred_value: 0.9499\n",
      "\n",
      " markedness: 0.9160\n",
      "\n",
      " diagnostic_odds_ration: 539.7151\n",
      "\n",
      " informedness: 0.9165\n",
      "\n",
      " prevalence_threshold: 0.1613\n",
      "\n",
      " prevalence: 0.5127\n",
      "\n",
      " accuracy: 0.9581\n",
      "\n",
      " balanced_accuracy: 0.9582\n",
      "\n",
      " F1_score: 0.9588\n",
      "\n",
      " fowlkes_mallows_index: 0.9588\n",
      "\n",
      " jaccard_index: 0.9209\n"
     ]
    },
    {
     "data": {
      "image/png": "[encoded data removed]",
      "text/plain": [
       "<Figure size 360x360 with 2 Axes>"
      ]
     },
     "metadata": {
      "needs_background": "light"
     },
     "output_type": "display_data"
    }
   ],
   "source": [
    "def model_diagnostic_stats(confusion_matrix):\n",
    "    tp = confusion_matrix[1,1]\n",
    "    tn = confusion_matrix[0,0]\n",
    "    fp = confusion_matrix[0,1]\n",
    "    fn = confusion_matrix[1,0]\n",
    "\n",
    "    p = tp + fn\n",
    "    n = fp + tn\n",
    "    pp = tp + fp\n",
    "    pn = fn + tn\n",
    "\n",
    "    diagnostic_dict = {\n",
    "    'recall' : tp/p,\n",
    "    'false_neg_rate' : fn/p,\n",
    "    'false_pos_rate' : fp/n,\n",
    "    'true_neg_rate' : tn/n,\n",
    "    'positive_liklihood_ratio' : (tp/p)/(fp/n),\n",
    "    'neg_liklihood_rate' : (fn/p)/(tn/n),\n",
    "    'precision' : tp/pp,\n",
    "    'false_omission_rate' : fn/pn,\n",
    "    'false_discovery_rate' : fp/pp,\n",
    "    'neg_pred_value' : tn/pn,\n",
    "    'markedness' : (tp/pp)+(tn/pn)-1,\n",
    "    'diagnostic_odds_ration' : ((tp/p)/(fp/n))/( (fn/p)/(tn/n)),\n",
    "    'informedness' : (tp/p)+(tn/n)-1,\n",
    "    'prevalence_threshold' : (sqrt((tp/p)*(fp/n))-(fp/n))/((tp/p)-(fp/n)),\n",
    "    'prevalence' : p/(p+n),\n",
    "    'accuracy' : (tp+tn)/(p+n),\n",
    "    'balanced_accuracy' : ((tp/p)+(tn/n))/2,\n",
    "    'F1_score' : 2*tp/(2*tp+fp+fn),\n",
    "    'fowlkes_mallows_index' : sqrt((tp/pp)*(tp/p)),\n",
    "    'jaccard_index' : tp/(tp+fn+fp),\n",
    "    }\n",
    "\n",
    "    return diagnostic_dict\n",
    "cm_matrix = confusion_matrix(y_test_list[9],y_pred)\n",
    "fig, ax = plt.subplots(figsize=(5,5))\n",
    "sb.heatmap(cm_matrix,annot=True,fmt='g',cmap=\"Blues\")\n",
    "stats = model_diagnostic_stats(cm_matrix)\n",
    "print('Model Confusion Matrix Statistics:')\n",
    "for key,value in stats.items():\n",
    "    value_str = '%.4f' % value\n",
    "    print(\"\\n {}: {}\".format(key,value_str))\n"
   ]
  },
  {
   "cell_type": "markdown",
   "metadata": {
    "id": "OJpho-QJDkn9"
   },
   "source": [
    "<h2>Feature Importance Plot"
   ]
  },
  {
   "cell_type": "code",
   "execution_count": null,
   "metadata": {
    "id": "iQEbrWb9Dkn9",
    "outputId": "4496292f-941a-4397-efd8-2e3139dbe2ff",
    "pycharm": {
     "name": "#%%\n"
    }
   },
   "outputs": [
    {
     "data": {
      "image/png": "[encoded data removed]",
      "text/plain": [
       "<Figure size 432x288 with 1 Axes>"
      ]
     },
     "metadata": {
      "needs_background": "light"
     },
     "output_type": "display_data"
    }
   ],
   "source": [
    "feature_importances = tuned_xgb.best_estimator_.feature_importances_\n",
    "column_var = x_train_list[0].columns.tolist()\n",
    "feature_imprt_df = pd.DataFrame({'Features':column_var, '% importance': feature_importances})\n",
    "formatted_vars_display = [ '%.3f' % elem for elem in feature_importances ]\n",
    "ax = sb.barplot(x='% importance', y='Features',data=feature_imprt_df)\n",
    "ax.set(xlabel='% importance', ylabel='Features')\n",
    "plt.show()\n"
   ]
  }
 ],
 "metadata": {
  "accelerator": "GPU",
  "colab": {
   "provenance": []
  },
  "gpuClass": "standard",
  "kernelspec": {
   "display_name": "Python 3 (ipykernel)",
   "language": "python",
   "name": "python3"
  },
  "language_info": {
   "codemirror_mode": {
    "name": "ipython",
    "version": 3
   },
   "file_extension": ".py",
   "mimetype": "text/x-python",
   "name": "python",
   "nbconvert_exporter": "python",
   "pygments_lexer": "ipython3",
   "version": "3.9.13"
  }
 },
 "nbformat": 4,
 "nbformat_minor": 1
}
