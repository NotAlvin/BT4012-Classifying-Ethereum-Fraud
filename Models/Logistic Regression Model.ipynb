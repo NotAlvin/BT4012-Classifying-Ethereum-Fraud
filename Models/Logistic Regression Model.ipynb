{
 "cells": [
  {
   "cell_type": "code",
   "execution_count": null,
   "id": "939bfb8a",
   "metadata": {
    "id": "939bfb8a"
   },
   "outputs": [],
   "source": [
    "import numpy as np\n",
    "import pandas as pd\n",
    "from sklearn.preprocessing import MinMaxScaler, LabelEncoder, PolynomialFeatures\n",
    "from sklearn import svm\n",
    "from sklearn.pipeline import Pipeline\n",
    "from sklearn.metrics import confusion_matrix, roc_auc_score, recall_score, accuracy_score, classification_report, r2_score as r2\n",
    "from sklearn.model_selection import KFold, RepeatedKFold, GridSearchCV, train_test_split, cross_val_score\n",
    "from sklearn.linear_model import LinearRegression, LogisticRegression, Ridge\n",
    "from pytorch_tabnet.tab_model import TabNetRegressor\n",
    "from xgboost import XGBClassifier\n",
    "import torch\n",
    "import keras\n",
    "from scikeras.wrappers import KerasClassifier\n",
    "import tensorflow as tf\n",
    "from keras.models import Sequential\n",
    "from keras import layers\n",
    "from sklearn.pipeline import make_pipeline\n",
    "from scikeras.wrappers import KerasClassifier\n",
    "from sklearn.ensemble import StackingClassifier, StackingRegressor\n",
    "from sklearn.neural_network import MLPClassifier\n",
    "from tqdm import tqdm\n",
    "import time\n",
    "\n",
    "# %matplotlib inline\n",
    "import matplotlib\n",
    "import matplotlib.pyplot as plt\n",
    "import seaborn as sns\n",
    "matplotlib.rcParams['figure.figsize'] = (11.0, 8.0)"
   ]
  },
  {
   "cell_type": "code",
   "execution_count": null,
   "id": "a95cd3b8",
   "metadata": {
    "id": "a95cd3b8",
    "outputId": "5df718be-a12e-4492-cf93-2e91d5798f55"
   },
   "outputs": [],
   "source": [
    "#Importing Data\n",
    "df = pd.read_csv('../Data/address_data_combined.csv')\n",
    "X = df.drop(columns=['Address', 'FLAG'])\n",
    "y = df['FLAG']\n",
    "X_train_full, X_test, y_train_full, y_test = train_test_split(X, y, test_size=0.3, random_state=42, stratify=y)\n",
    "\n",
    "\n",
    "columns = ['Avg min between sent tnx', 'Avg min between received tnx',\n",
    "       'Time Diff between first and last (Mins)',\n",
    "       'Unique Received From Addresses', 'min value received',\n",
    "       'max value received ', 'avg val received', 'min val sent',\n",
    "       'avg val sent', 'total transactions (including tnx to create contract',\n",
    "       'total ether received', 'total ether balance']\n",
    "    \n",
    "scaler = MinMaxScaler()\n",
    "\n",
    "# Log for Skewed Data\n",
    "for c in columns:\n",
    "    X_train_full[c] = X_train_full[c].apply(lambda x: np.log(x) if x > 0 else 0)\n",
    "    X_test[c] = X_test[c].apply(lambda x: np.log(x) if x > 0 else 0)\n",
    "\n",
    "# Scaling\n",
    "X_train_full = scaler.fit_transform(X_train_full)\n",
    "X_test = scaler.transform(X_test)\n",
    "\n",
    "np.isnan(X_train_full)"
   ]
  },
  {
   "cell_type": "code",
   "execution_count": null,
   "id": "4f0e737f",
   "metadata": {
    "id": "4f0e737f",
    "outputId": "f0709c76-975b-49be-9355-49b9c2c5d94c"
   },
   "outputs": [],
   "source": [
    "logreg = LogisticRegression()\n",
    "\n",
    "def evaluate_model(model, X, y):\n",
    "    cv = RepeatedKFold(n_splits=10, n_repeats=3, random_state=1)\n",
    "    scores = cross_val_score(model, X, y, scoring='accuracy', cv=cv, n_jobs=-1)\n",
    "    return scores\n",
    "\n",
    "# define dataset\n",
    "X, y = X_train_full, y_train_full\n",
    "\n",
    "scores = evaluate_model(logreg, X, y)\n",
    "\n",
    "print('>%s %.3f (%.3f)' % ('Logistic Regression', np.mean(scores), np.std(scores)))\n",
    "# plot model performance for comparison"
   ]
  },
  {
   "cell_type": "code",
   "execution_count": null,
   "id": "381e993f",
   "metadata": {
    "id": "381e993f",
    "outputId": "0f8054ac-b9d6-4462-9461-dce012aee3fc"
   },
   "outputs": [],
   "source": [
    "# plot model performance for comparison\n",
    "plt.boxplot(scores,showmeans=True)\n",
    "plt.show()"
   ]
  },
  {
   "cell_type": "code",
   "execution_count": null,
   "id": "dec6f606",
   "metadata": {
    "id": "dec6f606",
    "outputId": "2a13c7a3-2a5a-407c-ca7e-46dafeb2c45f"
   },
   "outputs": [],
   "source": [
    "from sklearn.feature_selection import RFE\n",
    "\n",
    "ranker = RFE(logreg, n_features_to_select = 1)\n",
    "ranker = ranker.fit(X_train_full, y_train_full)\n",
    "\n",
    "order = ranker.ranking_\n",
    "feature_ranks = {}\n",
    "for i in order:\n",
    "    feature_ranks[i] = columns[i-1]\n",
    "for i in range(len(columns)):\n",
    "    print('Importance Rank {}: {}'.format(i + 1, feature_ranks[i+1]))"
   ]
  },
  {
   "cell_type": "code",
   "execution_count": null,
   "id": "4b11cbc5",
   "metadata": {
    "id": "4b11cbc5"
   },
   "outputs": [],
   "source": [
    "logreg = logreg.fit(X_train_full, y_train_full)\n",
    "y_predicted = logreg.predict(X_test)"
   ]
  },
  {
   "cell_type": "code",
   "execution_count": null,
   "id": "1179ea64",
   "metadata": {
    "id": "1179ea64",
    "outputId": "351e8658-fb3b-432d-8066-b3db4ce7d525"
   },
   "outputs": [],
   "source": [
    "cf_matrix = confusion_matrix(y_test, y_predicted)\n",
    "group_names = ['True Neg','False Pos','False Neg','True Pos']\n",
    "group_counts = ['{0:0.0f}'.format(value) for value in\n",
    "                cf_matrix.flatten()]\n",
    "group_percentages = ['{0:.2%}'.format(value) for value in\n",
    "                     cf_matrix.flatten()/np.sum(cf_matrix)]\n",
    "labels = [f'{v1}\\n{v2}\\n{v3}' for v1, v2, v3 in\n",
    "          zip(group_names,group_counts,group_percentages)]\n",
    "labels = np.asarray(labels).reshape(2,2)\n",
    "\n",
    "sns.heatmap(cf_matrix, annot=labels, fmt='', cmap='Blues')\n",
    "plt.show()\n",
    "print('Test Validation - Accuracy:', accuracy_score(y_test, y_predicted), 'Recall:', recall_score(y_test, y_predicted))"
   ]
  },
  {
   "cell_type": "code",
   "execution_count": null,
   "id": "448e2bc4",
   "metadata": {
    "id": "448e2bc4"
   },
   "outputs": [],
   "source": []
  }
 ],
 "metadata": {
  "colab": {
   "collapsed_sections": [],
   "provenance": []
  },
  "kernelspec": {
   "display_name": "Python 3.10.6 64-bit",
   "language": "python",
   "name": "python3"
  },
  "language_info": {
   "codemirror_mode": {
    "name": "ipython",
    "version": 3
   },
   "file_extension": ".py",
   "mimetype": "text/x-python",
   "name": "python",
   "nbconvert_exporter": "python",
   "pygments_lexer": "ipython3",
   "version": "3.10.6"
  },
  "vscode": {
   "interpreter": {
    "hash": "aee8b7b246df8f9039afb4144a1f6fd8d2ca17a180786b69acc140d282b71a49"
   }
  }
 },
 "nbformat": 4,
 "nbformat_minor": 5
}
